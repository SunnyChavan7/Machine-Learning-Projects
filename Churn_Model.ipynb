{
  "nbformat": 4,
  "nbformat_minor": 0,
  "metadata": {
    "colab": {
      "provenance": []
    },
    "kernelspec": {
      "name": "python3",
      "display_name": "Python 3"
    },
    "language_info": {
      "name": "python"
    }
  },
  "cells": [
    {
      "cell_type": "markdown",
      "source": [
        "# **Bank Customer Churn Prediction - Bussiness Analytics Project**"
      ],
      "metadata": {
        "id": "oFUZ4KmIkgAq"
      }
    },
    {
      "cell_type": "markdown",
      "source": [
        "Customer Churn prediction means knowing which customers are likely to leave or unsubscribe from your service. For many companies, this is an important prediction. This is because acquiring new customers often costs more than retaining existing ones. Once you’ve identified customers at risk of churn, you need to know exactly what marketing efforts you should make with each customer to maximize their likelihood of staying.\n",
        "\n",
        "Customer Churn prediction means knowing which customers are likely to leave or unsubscribe from your service. For many companies, this is an important prediction. This is because acquiring new customers often costs more than retaining existing ones. Once you’ve identified customers at risk of churn, you need to know exactly what marketing efforts you should make with each customer to maximize their likelihood of staying.\n",
        "\n",
        "\n",
        "\n"
      ],
      "metadata": {
        "id": "8kN8umycktfr"
      }
    },
    {
      "cell_type": "markdown",
      "source": [
        "**Impact of customer churn on businesses**\n",
        "\n",
        "A company with a high churn rate loses many subscribers, resulting in lower growth rates and a greater impact on sales and profits. Companies with low churn rates can retain customers."
      ],
      "metadata": {
        "id": "8HSsUUd8mIrP"
      }
    },
    {
      "cell_type": "markdown",
      "source": [
        "**Source of the data:**\n",
        "\n",
        "The data has been taken from the YBI Foundation bussiness analytics dataset. The non-profit organization has used this data for their machine learning project."
      ],
      "metadata": {
        "id": "fbdplNm9k_nI"
      }
    },
    {
      "cell_type": "markdown",
      "source": [
        "**Information about data:**\n",
        "\n",
        "  1. CustomerId: unique discrete integer\n",
        "  2. Surname: string\n",
        "  3. CreditScore: discrete integer\n",
        "  4. Geography: string (name of the country)\n",
        "  5. Gender: string (Male, Female)\n",
        "  6. Age: discrete integer\n",
        "  7. Tenure: discrete integer\n",
        "  8. Balance: continuous floating point value\n",
        "  9. Num Of Products: discrete integer\n",
        "  10. Has Credit Card: discrete integer(1-has, 0-does not have)\n",
        "  11. Is Active Member: discrete integer(1-active , 0-not active)\n",
        "  12. Estimated Salary: continuous floating point\n",
        "  13. Churn: discrete integer (0 or 1)"
      ],
      "metadata": {
        "id": "VkDmT9All0rR"
      }
    },
    {
      "cell_type": "markdown",
      "source": [
        "# **Import Library**"
      ],
      "metadata": {
        "id": "aVJBMRZboyte"
      }
    },
    {
      "cell_type": "code",
      "source": [
        "import pandas as pd"
      ],
      "metadata": {
        "id": "mHtrYwYWo4Dw"
      },
      "execution_count": 1,
      "outputs": []
    },
    {
      "cell_type": "code",
      "source": [
        "import numpy as np"
      ],
      "metadata": {
        "id": "NRRRxtblpD4t"
      },
      "execution_count": 2,
      "outputs": []
    },
    {
      "cell_type": "code",
      "source": [
        "import matplotlib.pyplot as plt"
      ],
      "metadata": {
        "id": "YTyFQ4-GpIcv"
      },
      "execution_count": 3,
      "outputs": []
    },
    {
      "cell_type": "code",
      "source": [
        "import seaborn as sns"
      ],
      "metadata": {
        "id": "d9rRyWACpMVT"
      },
      "execution_count": 4,
      "outputs": []
    },
    {
      "cell_type": "markdown",
      "source": [
        "# **Import Data**"
      ],
      "metadata": {
        "id": "Zhkg-fNHpQ2p"
      }
    },
    {
      "cell_type": "code",
      "source": [
        "df = pd.read_csv(\"https://github.com/SunnyChavan7/Machine-Learning-Projects/raw/main/Bank%20Churn%20Modelling.csv\")"
      ],
      "metadata": {
        "id": "HdyJLPK0pXZ8"
      },
      "execution_count": 5,
      "outputs": []
    },
    {
      "cell_type": "markdown",
      "source": [
        "# **Analyse Data**"
      ],
      "metadata": {
        "id": "Cj7SaPJ1poK5"
      }
    },
    {
      "cell_type": "code",
      "source": [
        "df.head()"
      ],
      "metadata": {
        "colab": {
          "base_uri": "https://localhost:8080/",
          "height": 285
        },
        "id": "2tE5PXv2pr_M",
        "outputId": "3aed5c3b-f755-4515-9d59-09bd0c9cbb9e"
      },
      "execution_count": 6,
      "outputs": [
        {
          "output_type": "execute_result",
          "data": {
            "text/plain": [
              "   CustomerId   Surname  CreditScore Geography  Gender  Age  Tenure  \\\n",
              "0    15634602  Hargrave          619    France  Female   42       2   \n",
              "1    15647311      Hill          608     Spain  Female   41       1   \n",
              "2    15619304      Onio          502    France  Female   42       8   \n",
              "3    15701354      Boni          699    France  Female   39       1   \n",
              "4    15737888  Mitchell          850     Spain  Female   43       2   \n",
              "\n",
              "     Balance  Num Of Products  Has Credit Card  Is Active Member  \\\n",
              "0       0.00                1                1                 1   \n",
              "1   83807.86                1                0                 1   \n",
              "2  159660.80                3                1                 0   \n",
              "3       0.00                2                0                 0   \n",
              "4  125510.82                1                1                 1   \n",
              "\n",
              "   Estimated Salary  Churn  \n",
              "0         101348.88      1  \n",
              "1         112542.58      0  \n",
              "2         113931.57      1  \n",
              "3          93826.63      0  \n",
              "4          79084.10      0  "
            ],
            "text/html": [
              "\n",
              "\n",
              "  <div id=\"df-6f3fd6d5-da0b-4d09-8d12-457d6defe241\">\n",
              "    <div class=\"colab-df-container\">\n",
              "      <div>\n",
              "<style scoped>\n",
              "    .dataframe tbody tr th:only-of-type {\n",
              "        vertical-align: middle;\n",
              "    }\n",
              "\n",
              "    .dataframe tbody tr th {\n",
              "        vertical-align: top;\n",
              "    }\n",
              "\n",
              "    .dataframe thead th {\n",
              "        text-align: right;\n",
              "    }\n",
              "</style>\n",
              "<table border=\"1\" class=\"dataframe\">\n",
              "  <thead>\n",
              "    <tr style=\"text-align: right;\">\n",
              "      <th></th>\n",
              "      <th>CustomerId</th>\n",
              "      <th>Surname</th>\n",
              "      <th>CreditScore</th>\n",
              "      <th>Geography</th>\n",
              "      <th>Gender</th>\n",
              "      <th>Age</th>\n",
              "      <th>Tenure</th>\n",
              "      <th>Balance</th>\n",
              "      <th>Num Of Products</th>\n",
              "      <th>Has Credit Card</th>\n",
              "      <th>Is Active Member</th>\n",
              "      <th>Estimated Salary</th>\n",
              "      <th>Churn</th>\n",
              "    </tr>\n",
              "  </thead>\n",
              "  <tbody>\n",
              "    <tr>\n",
              "      <th>0</th>\n",
              "      <td>15634602</td>\n",
              "      <td>Hargrave</td>\n",
              "      <td>619</td>\n",
              "      <td>France</td>\n",
              "      <td>Female</td>\n",
              "      <td>42</td>\n",
              "      <td>2</td>\n",
              "      <td>0.00</td>\n",
              "      <td>1</td>\n",
              "      <td>1</td>\n",
              "      <td>1</td>\n",
              "      <td>101348.88</td>\n",
              "      <td>1</td>\n",
              "    </tr>\n",
              "    <tr>\n",
              "      <th>1</th>\n",
              "      <td>15647311</td>\n",
              "      <td>Hill</td>\n",
              "      <td>608</td>\n",
              "      <td>Spain</td>\n",
              "      <td>Female</td>\n",
              "      <td>41</td>\n",
              "      <td>1</td>\n",
              "      <td>83807.86</td>\n",
              "      <td>1</td>\n",
              "      <td>0</td>\n",
              "      <td>1</td>\n",
              "      <td>112542.58</td>\n",
              "      <td>0</td>\n",
              "    </tr>\n",
              "    <tr>\n",
              "      <th>2</th>\n",
              "      <td>15619304</td>\n",
              "      <td>Onio</td>\n",
              "      <td>502</td>\n",
              "      <td>France</td>\n",
              "      <td>Female</td>\n",
              "      <td>42</td>\n",
              "      <td>8</td>\n",
              "      <td>159660.80</td>\n",
              "      <td>3</td>\n",
              "      <td>1</td>\n",
              "      <td>0</td>\n",
              "      <td>113931.57</td>\n",
              "      <td>1</td>\n",
              "    </tr>\n",
              "    <tr>\n",
              "      <th>3</th>\n",
              "      <td>15701354</td>\n",
              "      <td>Boni</td>\n",
              "      <td>699</td>\n",
              "      <td>France</td>\n",
              "      <td>Female</td>\n",
              "      <td>39</td>\n",
              "      <td>1</td>\n",
              "      <td>0.00</td>\n",
              "      <td>2</td>\n",
              "      <td>0</td>\n",
              "      <td>0</td>\n",
              "      <td>93826.63</td>\n",
              "      <td>0</td>\n",
              "    </tr>\n",
              "    <tr>\n",
              "      <th>4</th>\n",
              "      <td>15737888</td>\n",
              "      <td>Mitchell</td>\n",
              "      <td>850</td>\n",
              "      <td>Spain</td>\n",
              "      <td>Female</td>\n",
              "      <td>43</td>\n",
              "      <td>2</td>\n",
              "      <td>125510.82</td>\n",
              "      <td>1</td>\n",
              "      <td>1</td>\n",
              "      <td>1</td>\n",
              "      <td>79084.10</td>\n",
              "      <td>0</td>\n",
              "    </tr>\n",
              "  </tbody>\n",
              "</table>\n",
              "</div>\n",
              "      <button class=\"colab-df-convert\" onclick=\"convertToInteractive('df-6f3fd6d5-da0b-4d09-8d12-457d6defe241')\"\n",
              "              title=\"Convert this dataframe to an interactive table.\"\n",
              "              style=\"display:none;\">\n",
              "\n",
              "  <svg xmlns=\"http://www.w3.org/2000/svg\" height=\"24px\"viewBox=\"0 0 24 24\"\n",
              "       width=\"24px\">\n",
              "    <path d=\"M0 0h24v24H0V0z\" fill=\"none\"/>\n",
              "    <path d=\"M18.56 5.44l.94 2.06.94-2.06 2.06-.94-2.06-.94-.94-2.06-.94 2.06-2.06.94zm-11 1L8.5 8.5l.94-2.06 2.06-.94-2.06-.94L8.5 2.5l-.94 2.06-2.06.94zm10 10l.94 2.06.94-2.06 2.06-.94-2.06-.94-.94-2.06-.94 2.06-2.06.94z\"/><path d=\"M17.41 7.96l-1.37-1.37c-.4-.4-.92-.59-1.43-.59-.52 0-1.04.2-1.43.59L10.3 9.45l-7.72 7.72c-.78.78-.78 2.05 0 2.83L4 21.41c.39.39.9.59 1.41.59.51 0 1.02-.2 1.41-.59l7.78-7.78 2.81-2.81c.8-.78.8-2.07 0-2.86zM5.41 20L4 18.59l7.72-7.72 1.47 1.35L5.41 20z\"/>\n",
              "  </svg>\n",
              "      </button>\n",
              "\n",
              "\n",
              "\n",
              "    <div id=\"df-707cce32-d19e-4709-b455-ae83a2e9f1db\">\n",
              "      <button class=\"colab-df-quickchart\" onclick=\"quickchart('df-707cce32-d19e-4709-b455-ae83a2e9f1db')\"\n",
              "              title=\"Suggest charts.\"\n",
              "              style=\"display:none;\">\n",
              "\n",
              "<svg xmlns=\"http://www.w3.org/2000/svg\" height=\"24px\"viewBox=\"0 0 24 24\"\n",
              "     width=\"24px\">\n",
              "    <g>\n",
              "        <path d=\"M19 3H5c-1.1 0-2 .9-2 2v14c0 1.1.9 2 2 2h14c1.1 0 2-.9 2-2V5c0-1.1-.9-2-2-2zM9 17H7v-7h2v7zm4 0h-2V7h2v10zm4 0h-2v-4h2v4z\"/>\n",
              "    </g>\n",
              "</svg>\n",
              "      </button>\n",
              "    </div>\n",
              "\n",
              "<style>\n",
              "  .colab-df-quickchart {\n",
              "    background-color: #E8F0FE;\n",
              "    border: none;\n",
              "    border-radius: 50%;\n",
              "    cursor: pointer;\n",
              "    display: none;\n",
              "    fill: #1967D2;\n",
              "    height: 32px;\n",
              "    padding: 0 0 0 0;\n",
              "    width: 32px;\n",
              "  }\n",
              "\n",
              "  .colab-df-quickchart:hover {\n",
              "    background-color: #E2EBFA;\n",
              "    box-shadow: 0px 1px 2px rgba(60, 64, 67, 0.3), 0px 1px 3px 1px rgba(60, 64, 67, 0.15);\n",
              "    fill: #174EA6;\n",
              "  }\n",
              "\n",
              "  [theme=dark] .colab-df-quickchart {\n",
              "    background-color: #3B4455;\n",
              "    fill: #D2E3FC;\n",
              "  }\n",
              "\n",
              "  [theme=dark] .colab-df-quickchart:hover {\n",
              "    background-color: #434B5C;\n",
              "    box-shadow: 0px 1px 3px 1px rgba(0, 0, 0, 0.15);\n",
              "    filter: drop-shadow(0px 1px 2px rgba(0, 0, 0, 0.3));\n",
              "    fill: #FFFFFF;\n",
              "  }\n",
              "</style>\n",
              "\n",
              "    <script>\n",
              "      async function quickchart(key) {\n",
              "        const containerElement = document.querySelector('#' + key);\n",
              "        const charts = await google.colab.kernel.invokeFunction(\n",
              "            'suggestCharts', [key], {});\n",
              "      }\n",
              "    </script>\n",
              "\n",
              "      <script>\n",
              "\n",
              "function displayQuickchartButton(domScope) {\n",
              "  let quickchartButtonEl =\n",
              "    domScope.querySelector('#df-707cce32-d19e-4709-b455-ae83a2e9f1db button.colab-df-quickchart');\n",
              "  quickchartButtonEl.style.display =\n",
              "    google.colab.kernel.accessAllowed ? 'block' : 'none';\n",
              "}\n",
              "\n",
              "        displayQuickchartButton(document);\n",
              "      </script>\n",
              "      <style>\n",
              "    .colab-df-container {\n",
              "      display:flex;\n",
              "      flex-wrap:wrap;\n",
              "      gap: 12px;\n",
              "    }\n",
              "\n",
              "    .colab-df-convert {\n",
              "      background-color: #E8F0FE;\n",
              "      border: none;\n",
              "      border-radius: 50%;\n",
              "      cursor: pointer;\n",
              "      display: none;\n",
              "      fill: #1967D2;\n",
              "      height: 32px;\n",
              "      padding: 0 0 0 0;\n",
              "      width: 32px;\n",
              "    }\n",
              "\n",
              "    .colab-df-convert:hover {\n",
              "      background-color: #E2EBFA;\n",
              "      box-shadow: 0px 1px 2px rgba(60, 64, 67, 0.3), 0px 1px 3px 1px rgba(60, 64, 67, 0.15);\n",
              "      fill: #174EA6;\n",
              "    }\n",
              "\n",
              "    [theme=dark] .colab-df-convert {\n",
              "      background-color: #3B4455;\n",
              "      fill: #D2E3FC;\n",
              "    }\n",
              "\n",
              "    [theme=dark] .colab-df-convert:hover {\n",
              "      background-color: #434B5C;\n",
              "      box-shadow: 0px 1px 3px 1px rgba(0, 0, 0, 0.15);\n",
              "      filter: drop-shadow(0px 1px 2px rgba(0, 0, 0, 0.3));\n",
              "      fill: #FFFFFF;\n",
              "    }\n",
              "  </style>\n",
              "\n",
              "      <script>\n",
              "        const buttonEl =\n",
              "          document.querySelector('#df-6f3fd6d5-da0b-4d09-8d12-457d6defe241 button.colab-df-convert');\n",
              "        buttonEl.style.display =\n",
              "          google.colab.kernel.accessAllowed ? 'block' : 'none';\n",
              "\n",
              "        async function convertToInteractive(key) {\n",
              "          const element = document.querySelector('#df-6f3fd6d5-da0b-4d09-8d12-457d6defe241');\n",
              "          const dataTable =\n",
              "            await google.colab.kernel.invokeFunction('convertToInteractive',\n",
              "                                                     [key], {});\n",
              "          if (!dataTable) return;\n",
              "\n",
              "          const docLinkHtml = 'Like what you see? Visit the ' +\n",
              "            '<a target=\"_blank\" href=https://colab.research.google.com/notebooks/data_table.ipynb>data table notebook</a>'\n",
              "            + ' to learn more about interactive tables.';\n",
              "          element.innerHTML = '';\n",
              "          dataTable['output_type'] = 'display_data';\n",
              "          await google.colab.output.renderOutput(dataTable, element);\n",
              "          const docLink = document.createElement('div');\n",
              "          docLink.innerHTML = docLinkHtml;\n",
              "          element.appendChild(docLink);\n",
              "        }\n",
              "      </script>\n",
              "    </div>\n",
              "  </div>\n"
            ]
          },
          "metadata": {},
          "execution_count": 6
        }
      ]
    },
    {
      "cell_type": "code",
      "source": [
        "df.info()"
      ],
      "metadata": {
        "colab": {
          "base_uri": "https://localhost:8080/"
        },
        "id": "DQnY1Rgppui-",
        "outputId": "8aa71161-5ee8-421a-dfde-ed146e07b0b2"
      },
      "execution_count": 7,
      "outputs": [
        {
          "output_type": "stream",
          "name": "stdout",
          "text": [
            "<class 'pandas.core.frame.DataFrame'>\n",
            "RangeIndex: 10000 entries, 0 to 9999\n",
            "Data columns (total 13 columns):\n",
            " #   Column            Non-Null Count  Dtype  \n",
            "---  ------            --------------  -----  \n",
            " 0   CustomerId        10000 non-null  int64  \n",
            " 1   Surname           10000 non-null  object \n",
            " 2   CreditScore       10000 non-null  int64  \n",
            " 3   Geography         10000 non-null  object \n",
            " 4   Gender            10000 non-null  object \n",
            " 5   Age               10000 non-null  int64  \n",
            " 6   Tenure            10000 non-null  int64  \n",
            " 7   Balance           10000 non-null  float64\n",
            " 8   Num Of Products   10000 non-null  int64  \n",
            " 9   Has Credit Card   10000 non-null  int64  \n",
            " 10  Is Active Member  10000 non-null  int64  \n",
            " 11  Estimated Salary  10000 non-null  float64\n",
            " 12  Churn             10000 non-null  int64  \n",
            "dtypes: float64(2), int64(8), object(3)\n",
            "memory usage: 1015.8+ KB\n"
          ]
        }
      ]
    },
    {
      "cell_type": "code",
      "source": [
        "# To make customerID as our serial no or index we will check whether it has any duplicate values\n",
        "df.duplicated('CustomerId').sum()"
      ],
      "metadata": {
        "colab": {
          "base_uri": "https://localhost:8080/"
        },
        "id": "1ey2HFIOpwEo",
        "outputId": "6c9f7490-1f6c-41f9-f07d-c8d1bd7b09b1"
      },
      "execution_count": 8,
      "outputs": [
        {
          "output_type": "execute_result",
          "data": {
            "text/plain": [
              "0"
            ]
          },
          "metadata": {},
          "execution_count": 8
        }
      ]
    },
    {
      "cell_type": "code",
      "source": [
        "df = df.set_index('CustomerId')"
      ],
      "metadata": {
        "id": "VsHa7wctqEux"
      },
      "execution_count": 9,
      "outputs": []
    },
    {
      "cell_type": "code",
      "source": [
        "df.info()\n",
        "#now the no. of columns become from 13 to 12"
      ],
      "metadata": {
        "colab": {
          "base_uri": "https://localhost:8080/"
        },
        "id": "ZIAD24C6qJ06",
        "outputId": "f74c63ff-0891-44cb-d759-16f40b556256"
      },
      "execution_count": 10,
      "outputs": [
        {
          "output_type": "stream",
          "name": "stdout",
          "text": [
            "<class 'pandas.core.frame.DataFrame'>\n",
            "Int64Index: 10000 entries, 15634602 to 15628319\n",
            "Data columns (total 12 columns):\n",
            " #   Column            Non-Null Count  Dtype  \n",
            "---  ------            --------------  -----  \n",
            " 0   Surname           10000 non-null  object \n",
            " 1   CreditScore       10000 non-null  int64  \n",
            " 2   Geography         10000 non-null  object \n",
            " 3   Gender            10000 non-null  object \n",
            " 4   Age               10000 non-null  int64  \n",
            " 5   Tenure            10000 non-null  int64  \n",
            " 6   Balance           10000 non-null  float64\n",
            " 7   Num Of Products   10000 non-null  int64  \n",
            " 8   Has Credit Card   10000 non-null  int64  \n",
            " 9   Is Active Member  10000 non-null  int64  \n",
            " 10  Estimated Salary  10000 non-null  float64\n",
            " 11  Churn             10000 non-null  int64  \n",
            "dtypes: float64(2), int64(7), object(3)\n",
            "memory usage: 1015.6+ KB\n"
          ]
        }
      ]
    },
    {
      "cell_type": "markdown",
      "source": [
        "# **Encoding**"
      ],
      "metadata": {
        "id": "u3P-PfmDqXaA"
      }
    },
    {
      "cell_type": "markdown",
      "source": [
        "Encoding the features which as object(characters, texts , strings as we cannot use them in machine learning)\n",
        "\n",
        "1. Change the string variables into integers.\n",
        "2. If the integer categorical variable some values are less in number then club them."
      ],
      "metadata": {
        "id": "Rw40WAXXN24U"
      }
    },
    {
      "cell_type": "code",
      "source": [
        "df['Geography'].value_counts()"
      ],
      "metadata": {
        "colab": {
          "base_uri": "https://localhost:8080/"
        },
        "id": "SsUWHhd-qLvg",
        "outputId": "20c7137c-377f-4142-d010-d899fb43779b"
      },
      "execution_count": 11,
      "outputs": [
        {
          "output_type": "execute_result",
          "data": {
            "text/plain": [
              "France     5014\n",
              "Germany    2509\n",
              "Spain      2477\n",
              "Name: Geography, dtype: int64"
            ]
          },
          "metadata": {},
          "execution_count": 11
        }
      ]
    },
    {
      "cell_type": "code",
      "source": [
        "#replacing values with same meaning as only one integer variable using integers\n",
        "# encoding using the concept of dictionary\n",
        "#inplace = True is used to change the values in the dataframe\n",
        "df.replace({'Geography':{'France':2, 'Germany':1, 'Spain':0}}, inplace=True)"
      ],
      "metadata": {
        "id": "EdlzOdzqqjUQ"
      },
      "execution_count": 12,
      "outputs": []
    },
    {
      "cell_type": "code",
      "source": [
        "df['Geography'].value_counts()"
      ],
      "metadata": {
        "colab": {
          "base_uri": "https://localhost:8080/"
        },
        "id": "H19BUKb7rKoq",
        "outputId": "8fbff312-a8a5-4c4d-9ece-bf694fb2fdc3"
      },
      "execution_count": 13,
      "outputs": [
        {
          "output_type": "execute_result",
          "data": {
            "text/plain": [
              "2    5014\n",
              "1    2509\n",
              "0    2477\n",
              "Name: Geography, dtype: int64"
            ]
          },
          "metadata": {},
          "execution_count": 13
        }
      ]
    },
    {
      "cell_type": "code",
      "source": [
        "df['Gender'].value_counts()"
      ],
      "metadata": {
        "colab": {
          "base_uri": "https://localhost:8080/"
        },
        "id": "wBtMTFXTrUc3",
        "outputId": "dab3f488-4afe-46ba-9fed-19c8b26eb577"
      },
      "execution_count": 14,
      "outputs": [
        {
          "output_type": "execute_result",
          "data": {
            "text/plain": [
              "Male      5457\n",
              "Female    4543\n",
              "Name: Gender, dtype: int64"
            ]
          },
          "metadata": {},
          "execution_count": 14
        }
      ]
    },
    {
      "cell_type": "code",
      "source": [
        "df.replace({'Gender': {'Male':0, 'Female':1}}, inplace=True)"
      ],
      "metadata": {
        "id": "JcOZ08XhrZVK"
      },
      "execution_count": 15,
      "outputs": []
    },
    {
      "cell_type": "code",
      "source": [
        "df['Gender'].value_counts()"
      ],
      "metadata": {
        "colab": {
          "base_uri": "https://localhost:8080/"
        },
        "id": "e6pcJXRork6X",
        "outputId": "b4f786a0-7751-40f1-edff-3fd18f25789a"
      },
      "execution_count": 16,
      "outputs": [
        {
          "output_type": "execute_result",
          "data": {
            "text/plain": [
              "0    5457\n",
              "1    4543\n",
              "Name: Gender, dtype: int64"
            ]
          },
          "metadata": {},
          "execution_count": 16
        }
      ]
    },
    {
      "cell_type": "code",
      "source": [
        "df['Num Of Products'].value_counts()\n",
        "# this is an integer but categorical variable"
      ],
      "metadata": {
        "colab": {
          "base_uri": "https://localhost:8080/"
        },
        "id": "ON5TABqsrqSf",
        "outputId": "7d99016f-de22-458b-dcba-cf07380b73cc"
      },
      "execution_count": 17,
      "outputs": [
        {
          "output_type": "execute_result",
          "data": {
            "text/plain": [
              "1    5084\n",
              "2    4590\n",
              "3     266\n",
              "4      60\n",
              "Name: Num Of Products, dtype: int64"
            ]
          },
          "metadata": {},
          "execution_count": 17
        }
      ]
    },
    {
      "cell_type": "code",
      "source": [
        "# Clubbing the categories to remove non-uniform distribution of count or dealing with the issue of small representation of value\n",
        "df.replace({'Num Of Products': {1:0, 2:1, 3:1, 4:1}}, inplace=True )"
      ],
      "metadata": {
        "id": "Iy9WNSRZr7iX"
      },
      "execution_count": 18,
      "outputs": []
    },
    {
      "cell_type": "code",
      "source": [
        "df['Num Of Products'].value_counts()"
      ],
      "metadata": {
        "colab": {
          "base_uri": "https://localhost:8080/"
        },
        "id": "7DjdVmP2spvx",
        "outputId": "255c20e2-cf1c-4b5a-c56b-9eb339c8eb80"
      },
      "execution_count": 19,
      "outputs": [
        {
          "output_type": "execute_result",
          "data": {
            "text/plain": [
              "0    5084\n",
              "1    4916\n",
              "Name: Num Of Products, dtype: int64"
            ]
          },
          "metadata": {},
          "execution_count": 19
        }
      ]
    },
    {
      "cell_type": "code",
      "source": [
        "df['Has Credit Card'].value_counts()"
      ],
      "metadata": {
        "colab": {
          "base_uri": "https://localhost:8080/"
        },
        "id": "r-Z_kaXCszUg",
        "outputId": "8b395ba1-902e-4f58-e7bb-199dcf6812df"
      },
      "execution_count": 20,
      "outputs": [
        {
          "output_type": "execute_result",
          "data": {
            "text/plain": [
              "1    7055\n",
              "0    2945\n",
              "Name: Has Credit Card, dtype: int64"
            ]
          },
          "metadata": {},
          "execution_count": 20
        }
      ]
    },
    {
      "cell_type": "code",
      "source": [
        "df['Is Active Member'].value_counts()"
      ],
      "metadata": {
        "colab": {
          "base_uri": "https://localhost:8080/"
        },
        "id": "tpjoJTU8s8_4",
        "outputId": "52877496-1197-463e-d741-73d892915351"
      },
      "execution_count": 21,
      "outputs": [
        {
          "output_type": "execute_result",
          "data": {
            "text/plain": [
              "1    5151\n",
              "0    4849\n",
              "Name: Is Active Member, dtype: int64"
            ]
          },
          "metadata": {},
          "execution_count": 21
        }
      ]
    },
    {
      "cell_type": "code",
      "source": [
        "# Now, for future engineering, we think that the customers which have 0 balance in their bank account may have higher chance to leave the bank.\n",
        "# So we will extract the columns where balance=0 and focus on the curch value count.\n",
        "df.loc[(df['Balance']==0), 'Churn'].value_counts()"
      ],
      "metadata": {
        "colab": {
          "base_uri": "https://localhost:8080/"
        },
        "id": "qnjByJdetGUD",
        "outputId": "e6c04c1c-d40f-45d3-81a6-64b06229d26b"
      },
      "execution_count": 22,
      "outputs": [
        {
          "output_type": "execute_result",
          "data": {
            "text/plain": [
              "0    3117\n",
              "1     500\n",
              "Name: Churn, dtype: int64"
            ]
          },
          "metadata": {},
          "execution_count": 22
        }
      ]
    },
    {
      "cell_type": "code",
      "source": [
        "# here we found that the no. of customers which have 0 bank balance who left the bank are substantial\n",
        "# Therefore, we will create a new column using np.where() function and giving it a category 0 or 1\n",
        "df['Zero Balance']=np.where(df['Balance']>0, 1, 0)"
      ],
      "metadata": {
        "id": "JAJKBu0ItPI4"
      },
      "execution_count": 23,
      "outputs": []
    },
    {
      "cell_type": "code",
      "source": [
        "df['Zero Balance'].hist()"
      ],
      "metadata": {
        "colab": {
          "base_uri": "https://localhost:8080/",
          "height": 447
        },
        "id": "T-de7ZqXtZdg",
        "outputId": "da5d2b46-d5f7-4b79-deac-37d27f9ce282"
      },
      "execution_count": 24,
      "outputs": [
        {
          "output_type": "execute_result",
          "data": {
            "text/plain": [
              "<Axes: >"
            ]
          },
          "metadata": {},
          "execution_count": 24
        },
        {
          "output_type": "display_data",
          "data": {
            "text/plain": [
              "<Figure size 640x480 with 1 Axes>"
            ],
            "image/png": "[encoded data removed]"
          },
          "metadata": {}
        }
      ]
    },
    {
      "cell_type": "code",
      "source": [
        "df.groupby(['Churn', 'Geography']).count()\n",
        "# using groupby function to check the churn based on geography\n",
        "# Similarly, we can use multiple groupby functions to check the hypothesis"
      ],
      "metadata": {
        "colab": {
          "base_uri": "https://localhost:8080/",
          "height": 330
        },
        "id": "GhR-iUxYtdnE",
        "outputId": "47a06e32-bdc4-45ec-f249-d9ac0fa1ce9b"
      },
      "execution_count": 25,
      "outputs": [
        {
          "output_type": "execute_result",
          "data": {
            "text/plain": [
              "                 Surname  CreditScore  Gender   Age  Tenure  Balance  \\\n",
              "Churn Geography                                                        \n",
              "0     0             2064         2064    2064  2064    2064     2064   \n",
              "      1             1695         1695    1695  1695    1695     1695   \n",
              "      2             4204         4204    4204  4204    4204     4204   \n",
              "1     0              413          413     413   413     413      413   \n",
              "      1              814          814     814   814     814      814   \n",
              "      2              810          810     810   810     810      810   \n",
              "\n",
              "                 Num Of Products  Has Credit Card  Is Active Member  \\\n",
              "Churn Geography                                                       \n",
              "0     0                     2064             2064              2064   \n",
              "      1                     1695             1695              1695   \n",
              "      2                     4204             4204              4204   \n",
              "1     0                      413              413               413   \n",
              "      1                      814              814               814   \n",
              "      2                      810              810               810   \n",
              "\n",
              "                 Estimated Salary  Zero Balance  \n",
              "Churn Geography                                  \n",
              "0     0                      2064          2064  \n",
              "      1                      1695          1695  \n",
              "      2                      4204          4204  \n",
              "1     0                       413           413  \n",
              "      1                       814           814  \n",
              "      2                       810           810  "
            ],
            "text/html": [
              "\n",
              "\n",
              "  <div id=\"df-af617557-9a96-4ea9-a7c2-136ab90dc973\">\n",
              "    <div class=\"colab-df-container\">\n",
              "      <div>\n",
              "<style scoped>\n",
              "    .dataframe tbody tr th:only-of-type {\n",
              "        vertical-align: middle;\n",
              "    }\n",
              "\n",
              "    .dataframe tbody tr th {\n",
              "        vertical-align: top;\n",
              "    }\n",
              "\n",
              "    .dataframe thead th {\n",
              "        text-align: right;\n",
              "    }\n",
              "</style>\n",
              "<table border=\"1\" class=\"dataframe\">\n",
              "  <thead>\n",
              "    <tr style=\"text-align: right;\">\n",
              "      <th></th>\n",
              "      <th></th>\n",
              "      <th>Surname</th>\n",
              "      <th>CreditScore</th>\n",
              "      <th>Gender</th>\n",
              "      <th>Age</th>\n",
              "      <th>Tenure</th>\n",
              "      <th>Balance</th>\n",
              "      <th>Num Of Products</th>\n",
              "      <th>Has Credit Card</th>\n",
              "      <th>Is Active Member</th>\n",
              "      <th>Estimated Salary</th>\n",
              "      <th>Zero Balance</th>\n",
              "    </tr>\n",
              "    <tr>\n",
              "      <th>Churn</th>\n",
              "      <th>Geography</th>\n",
              "      <th></th>\n",
              "      <th></th>\n",
              "      <th></th>\n",
              "      <th></th>\n",
              "      <th></th>\n",
              "      <th></th>\n",
              "      <th></th>\n",
              "      <th></th>\n",
              "      <th></th>\n",
              "      <th></th>\n",
              "      <th></th>\n",
              "    </tr>\n",
              "  </thead>\n",
              "  <tbody>\n",
              "    <tr>\n",
              "      <th rowspan=\"3\" valign=\"top\">0</th>\n",
              "      <th>0</th>\n",
              "      <td>2064</td>\n",
              "      <td>2064</td>\n",
              "      <td>2064</td>\n",
              "      <td>2064</td>\n",
              "      <td>2064</td>\n",
              "      <td>2064</td>\n",
              "      <td>2064</td>\n",
              "      <td>2064</td>\n",
              "      <td>2064</td>\n",
              "      <td>2064</td>\n",
              "      <td>2064</td>\n",
              "    </tr>\n",
              "    <tr>\n",
              "      <th>1</th>\n",
              "      <td>1695</td>\n",
              "      <td>1695</td>\n",
              "      <td>1695</td>\n",
              "      <td>1695</td>\n",
              "      <td>1695</td>\n",
              "      <td>1695</td>\n",
              "      <td>1695</td>\n",
              "      <td>1695</td>\n",
              "      <td>1695</td>\n",
              "      <td>1695</td>\n",
              "      <td>1695</td>\n",
              "    </tr>\n",
              "    <tr>\n",
              "      <th>2</th>\n",
              "      <td>4204</td>\n",
              "      <td>4204</td>\n",
              "      <td>4204</td>\n",
              "      <td>4204</td>\n",
              "      <td>4204</td>\n",
              "      <td>4204</td>\n",
              "      <td>4204</td>\n",
              "      <td>4204</td>\n",
              "      <td>4204</td>\n",
              "      <td>4204</td>\n",
              "      <td>4204</td>\n",
              "    </tr>\n",
              "    <tr>\n",
              "      <th rowspan=\"3\" valign=\"top\">1</th>\n",
              "      <th>0</th>\n",
              "      <td>413</td>\n",
              "      <td>413</td>\n",
              "      <td>413</td>\n",
              "      <td>413</td>\n",
              "      <td>413</td>\n",
              "      <td>413</td>\n",
              "      <td>413</td>\n",
              "      <td>413</td>\n",
              "      <td>413</td>\n",
              "      <td>413</td>\n",
              "      <td>413</td>\n",
              "    </tr>\n",
              "    <tr>\n",
              "      <th>1</th>\n",
              "      <td>814</td>\n",
              "      <td>814</td>\n",
              "      <td>814</td>\n",
              "      <td>814</td>\n",
              "      <td>814</td>\n",
              "      <td>814</td>\n",
              "      <td>814</td>\n",
              "      <td>814</td>\n",
              "      <td>814</td>\n",
              "      <td>814</td>\n",
              "      <td>814</td>\n",
              "    </tr>\n",
              "    <tr>\n",
              "      <th>2</th>\n",
              "      <td>810</td>\n",
              "      <td>810</td>\n",
              "      <td>810</td>\n",
              "      <td>810</td>\n",
              "      <td>810</td>\n",
              "      <td>810</td>\n",
              "      <td>810</td>\n",
              "      <td>810</td>\n",
              "      <td>810</td>\n",
              "      <td>810</td>\n",
              "      <td>810</td>\n",
              "    </tr>\n",
              "  </tbody>\n",
              "</table>\n",
              "</div>\n",
              "      <button class=\"colab-df-convert\" onclick=\"convertToInteractive('df-af617557-9a96-4ea9-a7c2-136ab90dc973')\"\n",
              "              title=\"Convert this dataframe to an interactive table.\"\n",
              "              style=\"display:none;\">\n",
              "\n",
              "  <svg xmlns=\"http://www.w3.org/2000/svg\" height=\"24px\"viewBox=\"0 0 24 24\"\n",
              "       width=\"24px\">\n",
              "    <path d=\"M0 0h24v24H0V0z\" fill=\"none\"/>\n",
              "    <path d=\"M18.56 5.44l.94 2.06.94-2.06 2.06-.94-2.06-.94-.94-2.06-.94 2.06-2.06.94zm-11 1L8.5 8.5l.94-2.06 2.06-.94-2.06-.94L8.5 2.5l-.94 2.06-2.06.94zm10 10l.94 2.06.94-2.06 2.06-.94-2.06-.94-.94-2.06-.94 2.06-2.06.94z\"/><path d=\"M17.41 7.96l-1.37-1.37c-.4-.4-.92-.59-1.43-.59-.52 0-1.04.2-1.43.59L10.3 9.45l-7.72 7.72c-.78.78-.78 2.05 0 2.83L4 21.41c.39.39.9.59 1.41.59.51 0 1.02-.2 1.41-.59l7.78-7.78 2.81-2.81c.8-.78.8-2.07 0-2.86zM5.41 20L4 18.59l7.72-7.72 1.47 1.35L5.41 20z\"/>\n",
              "  </svg>\n",
              "      </button>\n",
              "\n",
              "\n",
              "\n",
              "    <div id=\"df-02dfafef-40ba-4194-ad09-8ad05da79874\">\n",
              "      <button class=\"colab-df-quickchart\" onclick=\"quickchart('df-02dfafef-40ba-4194-ad09-8ad05da79874')\"\n",
              "              title=\"Suggest charts.\"\n",
              "              style=\"display:none;\">\n",
              "\n",
              "<svg xmlns=\"http://www.w3.org/2000/svg\" height=\"24px\"viewBox=\"0 0 24 24\"\n",
              "     width=\"24px\">\n",
              "    <g>\n",
              "        <path d=\"M19 3H5c-1.1 0-2 .9-2 2v14c0 1.1.9 2 2 2h14c1.1 0 2-.9 2-2V5c0-1.1-.9-2-2-2zM9 17H7v-7h2v7zm4 0h-2V7h2v10zm4 0h-2v-4h2v4z\"/>\n",
              "    </g>\n",
              "</svg>\n",
              "      </button>\n",
              "    </div>\n",
              "\n",
              "<style>\n",
              "  .colab-df-quickchart {\n",
              "    background-color: #E8F0FE;\n",
              "    border: none;\n",
              "    border-radius: 50%;\n",
              "    cursor: pointer;\n",
              "    display: none;\n",
              "    fill: #1967D2;\n",
              "    height: 32px;\n",
              "    padding: 0 0 0 0;\n",
              "    width: 32px;\n",
              "  }\n",
              "\n",
              "  .colab-df-quickchart:hover {\n",
              "    background-color: #E2EBFA;\n",
              "    box-shadow: 0px 1px 2px rgba(60, 64, 67, 0.3), 0px 1px 3px 1px rgba(60, 64, 67, 0.15);\n",
              "    fill: #174EA6;\n",
              "  }\n",
              "\n",
              "  [theme=dark] .colab-df-quickchart {\n",
              "    background-color: #3B4455;\n",
              "    fill: #D2E3FC;\n",
              "  }\n",
              "\n",
              "  [theme=dark] .colab-df-quickchart:hover {\n",
              "    background-color: #434B5C;\n",
              "    box-shadow: 0px 1px 3px 1px rgba(0, 0, 0, 0.15);\n",
              "    filter: drop-shadow(0px 1px 2px rgba(0, 0, 0, 0.3));\n",
              "    fill: #FFFFFF;\n",
              "  }\n",
              "</style>\n",
              "\n",
              "    <script>\n",
              "      async function quickchart(key) {\n",
              "        const containerElement = document.querySelector('#' + key);\n",
              "        const charts = await google.colab.kernel.invokeFunction(\n",
              "            'suggestCharts', [key], {});\n",
              "      }\n",
              "    </script>\n",
              "\n",
              "      <script>\n",
              "\n",
              "function displayQuickchartButton(domScope) {\n",
              "  let quickchartButtonEl =\n",
              "    domScope.querySelector('#df-02dfafef-40ba-4194-ad09-8ad05da79874 button.colab-df-quickchart');\n",
              "  quickchartButtonEl.style.display =\n",
              "    google.colab.kernel.accessAllowed ? 'block' : 'none';\n",
              "}\n",
              "\n",
              "        displayQuickchartButton(document);\n",
              "      </script>\n",
              "      <style>\n",
              "    .colab-df-container {\n",
              "      display:flex;\n",
              "      flex-wrap:wrap;\n",
              "      gap: 12px;\n",
              "    }\n",
              "\n",
              "    .colab-df-convert {\n",
              "      background-color: #E8F0FE;\n",
              "      border: none;\n",
              "      border-radius: 50%;\n",
              "      cursor: pointer;\n",
              "      display: none;\n",
              "      fill: #1967D2;\n",
              "      height: 32px;\n",
              "      padding: 0 0 0 0;\n",
              "      width: 32px;\n",
              "    }\n",
              "\n",
              "    .colab-df-convert:hover {\n",
              "      background-color: #E2EBFA;\n",
              "      box-shadow: 0px 1px 2px rgba(60, 64, 67, 0.3), 0px 1px 3px 1px rgba(60, 64, 67, 0.15);\n",
              "      fill: #174EA6;\n",
              "    }\n",
              "\n",
              "    [theme=dark] .colab-df-convert {\n",
              "      background-color: #3B4455;\n",
              "      fill: #D2E3FC;\n",
              "    }\n",
              "\n",
              "    [theme=dark] .colab-df-convert:hover {\n",
              "      background-color: #434B5C;\n",
              "      box-shadow: 0px 1px 3px 1px rgba(0, 0, 0, 0.15);\n",
              "      filter: drop-shadow(0px 1px 2px rgba(0, 0, 0, 0.3));\n",
              "      fill: #FFFFFF;\n",
              "    }\n",
              "  </style>\n",
              "\n",
              "      <script>\n",
              "        const buttonEl =\n",
              "          document.querySelector('#df-af617557-9a96-4ea9-a7c2-136ab90dc973 button.colab-df-convert');\n",
              "        buttonEl.style.display =\n",
              "          google.colab.kernel.accessAllowed ? 'block' : 'none';\n",
              "\n",
              "        async function convertToInteractive(key) {\n",
              "          const element = document.querySelector('#df-af617557-9a96-4ea9-a7c2-136ab90dc973');\n",
              "          const dataTable =\n",
              "            await google.colab.kernel.invokeFunction('convertToInteractive',\n",
              "                                                     [key], {});\n",
              "          if (!dataTable) return;\n",
              "\n",
              "          const docLinkHtml = 'Like what you see? Visit the ' +\n",
              "            '<a target=\"_blank\" href=https://colab.research.google.com/notebooks/data_table.ipynb>data table notebook</a>'\n",
              "            + ' to learn more about interactive tables.';\n",
              "          element.innerHTML = '';\n",
              "          dataTable['output_type'] = 'display_data';\n",
              "          await google.colab.output.renderOutput(dataTable, element);\n",
              "          const docLink = document.createElement('div');\n",
              "          docLink.innerHTML = docLinkHtml;\n",
              "          element.appendChild(docLink);\n",
              "        }\n",
              "      </script>\n",
              "    </div>\n",
              "  </div>\n"
            ]
          },
          "metadata": {},
          "execution_count": 25
        }
      ]
    },
    {
      "cell_type": "markdown",
      "source": [
        "# **Define label X and features y**"
      ],
      "metadata": {
        "id": "bV03y0MPvqla"
      }
    },
    {
      "cell_type": "code",
      "source": [
        "df.columns"
      ],
      "metadata": {
        "colab": {
          "base_uri": "https://localhost:8080/"
        },
        "id": "Hz07APHUv0Fm",
        "outputId": "118115b8-3029-4414-cd2f-df6747cc7a6f"
      },
      "execution_count": 26,
      "outputs": [
        {
          "output_type": "execute_result",
          "data": {
            "text/plain": [
              "Index(['Surname', 'CreditScore', 'Geography', 'Gender', 'Age', 'Tenure',\n",
              "       'Balance', 'Num Of Products', 'Has Credit Card', 'Is Active Member',\n",
              "       'Estimated Salary', 'Churn', 'Zero Balance'],\n",
              "      dtype='object')"
            ]
          },
          "metadata": {},
          "execution_count": 26
        }
      ]
    },
    {
      "cell_type": "code",
      "source": [
        "X = df.drop(['Surname', 'Churn'], axis=1)\n",
        "# as surname has no predictive power"
      ],
      "metadata": {
        "id": "4GaH-3Lfv1rD"
      },
      "execution_count": 27,
      "outputs": []
    },
    {
      "cell_type": "code",
      "source": [
        "y = df['Churn']"
      ],
      "metadata": {
        "id": "p4flFUk4wMHI"
      },
      "execution_count": 28,
      "outputs": []
    },
    {
      "cell_type": "code",
      "source": [
        "X.shape, y.shape"
      ],
      "metadata": {
        "colab": {
          "base_uri": "https://localhost:8080/"
        },
        "id": "2lXJ6gK5wQqB",
        "outputId": "a5d890d1-7ce6-4756-c34e-077b04903928"
      },
      "execution_count": 29,
      "outputs": [
        {
          "output_type": "execute_result",
          "data": {
            "text/plain": [
              "((10000, 11), (10000,))"
            ]
          },
          "metadata": {},
          "execution_count": 29
        }
      ]
    },
    {
      "cell_type": "markdown",
      "source": [
        "# **Handling Imbalance Data**"
      ],
      "metadata": {
        "id": "rXgUN4fFwXfv"
      }
    },
    {
      "cell_type": "markdown",
      "source": [
        "Class Ibalance is a common problem in machine learning, especially in classification problems as machine learning algorithms are designed to maximize accuracy and reduce errors. If the data set is imbalance then in such cases, just by predicting the majority class we get a pretty high accuracy, but fails to capture the minority class, which is most often the point of creating the model in the first place, like in\n",
        "  1. Fraud detection\n",
        "  2. Spam filtering\n",
        "  3. Disease screening\n",
        "  4. Online sales churn\n",
        "  5. Advertising click-throughs\n",
        "\n",
        "**Undersampling** can be defined as removing some observation of the majority class. This is done until the majority and minority class is balanced out.\n",
        "Undersampling can be a good choice when you have a ton of data-think millions of rows. Bur a drawback to undersampling is that we are removing information that may be valueable.\n",
        "In under-sampling, the simplest technique involves removing random records from the majority class, which can cause loss of information.\n",
        "A drawback to consider when undersampling is that it can cause overfitting and poor generalization to your test set.\n",
        "\n",
        "**Oversampling** can be defined as adding more copies to the minority class. Oversampling can be a good choice when you don't have a ton of data to work with.\n",
        "The simplest implementation of over-sampling is to duplicate random records from the minority class, which can cause overfitting.\n",
        "![image.png](data:image/png;base64,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)"
      ],
      "metadata": {
        "id": "18qylUBNwfOX"
      }
    },
    {
      "cell_type": "code",
      "source": [
        "df['Churn'].value_counts()"
      ],
      "metadata": {
        "colab": {
          "base_uri": "https://localhost:8080/"
        },
        "id": "jk3-8O1o0HEv",
        "outputId": "860b4861-bc43-49a9-f683-d42c258896a6"
      },
      "execution_count": 30,
      "outputs": [
        {
          "output_type": "execute_result",
          "data": {
            "text/plain": [
              "0    7963\n",
              "1    2037\n",
              "Name: Churn, dtype: int64"
            ]
          },
          "metadata": {},
          "execution_count": 30
        }
      ]
    },
    {
      "cell_type": "code",
      "source": [
        "sns.countplot(x='Churn', data=df)"
      ],
      "metadata": {
        "colab": {
          "base_uri": "https://localhost:8080/",
          "height": 466
        },
        "id": "DR_fZCl20Mxe",
        "outputId": "15ec81ad-d1aa-45a3-e15c-7eb758484907"
      },
      "execution_count": 31,
      "outputs": [
        {
          "output_type": "execute_result",
          "data": {
            "text/plain": [
              "<Axes: xlabel='Churn', ylabel='count'>"
            ]
          },
          "metadata": {},
          "execution_count": 31
        },
        {
          "output_type": "display_data",
          "data": {
            "text/plain": [
              "<Figure size 640x480 with 1 Axes>"
            ],
            "image/png": "[encoded data removed]"
          },
          "metadata": {}
        }
      ]
    },
    {
      "cell_type": "code",
      "source": [
        "X.shape, y.shape"
      ],
      "metadata": {
        "colab": {
          "base_uri": "https://localhost:8080/"
        },
        "id": "JjSuFldn0Vgf",
        "outputId": "20cd804a-f583-42c2-802f-dea54c446dc7"
      },
      "execution_count": 32,
      "outputs": [
        {
          "output_type": "execute_result",
          "data": {
            "text/plain": [
              "((10000, 11), (10000,))"
            ]
          },
          "metadata": {},
          "execution_count": 32
        }
      ]
    },
    {
      "cell_type": "markdown",
      "source": [
        "# **Random Under Sampling**"
      ],
      "metadata": {
        "id": "PqdbK9GC0hyy"
      }
    },
    {
      "cell_type": "code",
      "source": [
        "from imblearn.under_sampling import RandomUnderSampler"
      ],
      "metadata": {
        "id": "6IbpQ7Et0pOW"
      },
      "execution_count": 33,
      "outputs": []
    },
    {
      "cell_type": "code",
      "source": [
        "rus = RandomUnderSampler(random_state=2529)"
      ],
      "metadata": {
        "id": "Sj28vniQ0wky"
      },
      "execution_count": 34,
      "outputs": []
    },
    {
      "cell_type": "code",
      "source": [
        "X_rus, y_rus = rus.fit_resample(X, y)"
      ],
      "metadata": {
        "id": "rWL-qTyT02sb"
      },
      "execution_count": 35,
      "outputs": []
    },
    {
      "cell_type": "code",
      "source": [
        "X_rus.shape, y_rus.shape, X.shape, y.shape"
      ],
      "metadata": {
        "colab": {
          "base_uri": "https://localhost:8080/"
        },
        "id": "kyPhCwzD1ACa",
        "outputId": "f35dcf4b-def9-4793-9b6e-8927ae84cede"
      },
      "execution_count": 36,
      "outputs": [
        {
          "output_type": "execute_result",
          "data": {
            "text/plain": [
              "((4074, 11), (4074,), (10000, 11), (10000,))"
            ]
          },
          "metadata": {},
          "execution_count": 36
        }
      ]
    },
    {
      "cell_type": "code",
      "source": [
        "y.value_counts()"
      ],
      "metadata": {
        "colab": {
          "base_uri": "https://localhost:8080/"
        },
        "id": "_6smQO7q1I7C",
        "outputId": "dd063f55-de02-48f1-d6eb-012d3f9cb972"
      },
      "execution_count": 37,
      "outputs": [
        {
          "output_type": "execute_result",
          "data": {
            "text/plain": [
              "0    7963\n",
              "1    2037\n",
              "Name: Churn, dtype: int64"
            ]
          },
          "metadata": {},
          "execution_count": 37
        }
      ]
    },
    {
      "cell_type": "code",
      "source": [
        "y_rus.value_counts()"
      ],
      "metadata": {
        "colab": {
          "base_uri": "https://localhost:8080/"
        },
        "id": "VDNVs6pd1VaR",
        "outputId": "8d59b576-e6ec-45e6-c3c2-dc28ac30ae4d"
      },
      "execution_count": 38,
      "outputs": [
        {
          "output_type": "execute_result",
          "data": {
            "text/plain": [
              "0    2037\n",
              "1    2037\n",
              "Name: Churn, dtype: int64"
            ]
          },
          "metadata": {},
          "execution_count": 38
        }
      ]
    },
    {
      "cell_type": "code",
      "source": [
        "y_rus.plot(kind='hist')"
      ],
      "metadata": {
        "colab": {
          "base_uri": "https://localhost:8080/",
          "height": 447
        },
        "id": "cYdywKf91bmx",
        "outputId": "59f26773-442a-4a0d-ee86-ea7491fb2e7e"
      },
      "execution_count": 39,
      "outputs": [
        {
          "output_type": "execute_result",
          "data": {
            "text/plain": [
              "<Axes: ylabel='Frequency'>"
            ]
          },
          "metadata": {},
          "execution_count": 39
        },
        {
          "output_type": "display_data",
          "data": {
            "text/plain": [
              "<Figure size 640x480 with 1 Axes>"
            ],
            "image/png": "[encoded data removed]"
          },
          "metadata": {}
        }
      ]
    },
    {
      "cell_type": "markdown",
      "source": [
        "# **Random Over Sampling**"
      ],
      "metadata": {
        "id": "Y2qltDuM1qJu"
      }
    },
    {
      "cell_type": "code",
      "source": [
        "from imblearn.over_sampling import RandomOverSampler"
      ],
      "metadata": {
        "id": "1_q_Srh91zSD"
      },
      "execution_count": 40,
      "outputs": []
    },
    {
      "cell_type": "code",
      "source": [
        "ros = RandomOverSampler(random_state=2529)"
      ],
      "metadata": {
        "id": "ELV99kd019nA"
      },
      "execution_count": 41,
      "outputs": []
    },
    {
      "cell_type": "code",
      "source": [
        "X_ros, y_ros = ros.fit_resample(X, y)"
      ],
      "metadata": {
        "id": "35UYoNWj2FSE"
      },
      "execution_count": 42,
      "outputs": []
    },
    {
      "cell_type": "code",
      "source": [
        "X_ros.shape, y_ros.shape, X.shape, y.shape"
      ],
      "metadata": {
        "colab": {
          "base_uri": "https://localhost:8080/"
        },
        "id": "zqwhGeG02NWl",
        "outputId": "51c3d3fc-98c9-49e1-e2f2-b1df5a03b517"
      },
      "execution_count": 43,
      "outputs": [
        {
          "output_type": "execute_result",
          "data": {
            "text/plain": [
              "((15926, 11), (15926,), (10000, 11), (10000,))"
            ]
          },
          "metadata": {},
          "execution_count": 43
        }
      ]
    },
    {
      "cell_type": "code",
      "source": [
        "y.value_counts()"
      ],
      "metadata": {
        "colab": {
          "base_uri": "https://localhost:8080/"
        },
        "id": "KXsgiIJG2o_I",
        "outputId": "8b0a14e1-5985-4deb-a197-bab99f2dca3f"
      },
      "execution_count": 44,
      "outputs": [
        {
          "output_type": "execute_result",
          "data": {
            "text/plain": [
              "0    7963\n",
              "1    2037\n",
              "Name: Churn, dtype: int64"
            ]
          },
          "metadata": {},
          "execution_count": 44
        }
      ]
    },
    {
      "cell_type": "code",
      "source": [
        "y_ros.value_counts()"
      ],
      "metadata": {
        "colab": {
          "base_uri": "https://localhost:8080/"
        },
        "id": "vb41mpjo2sY9",
        "outputId": "efc0b6c2-e9a7-4335-8378-6a1fd7b8f228"
      },
      "execution_count": 45,
      "outputs": [
        {
          "output_type": "execute_result",
          "data": {
            "text/plain": [
              "1    7963\n",
              "0    7963\n",
              "Name: Churn, dtype: int64"
            ]
          },
          "metadata": {},
          "execution_count": 45
        }
      ]
    },
    {
      "cell_type": "code",
      "source": [
        "y_ros.plot(kind='hist')"
      ],
      "metadata": {
        "id": "-b-aRcRO2yKJ",
        "outputId": "18f3dac7-de64-41de-e458-3c7bde2d8dd7",
        "colab": {
          "base_uri": "https://localhost:8080/",
          "height": 447
        }
      },
      "execution_count": 46,
      "outputs": [
        {
          "output_type": "execute_result",
          "data": {
            "text/plain": [
              "<Axes: ylabel='Frequency'>"
            ]
          },
          "metadata": {},
          "execution_count": 46
        },
        {
          "output_type": "display_data",
          "data": {
            "text/plain": [
              "<Figure size 640x480 with 1 Axes>"
            ],
            "image/png": "[encoded data removed]"
          },
          "metadata": {}
        }
      ]
    },
    {
      "cell_type": "markdown",
      "source": [
        "# **Train Test Split**"
      ],
      "metadata": {
        "id": "Njhd71v3noi7"
      }
    },
    {
      "cell_type": "code",
      "source": [
        "from sklearn.model_selection import train_test_split"
      ],
      "metadata": {
        "id": "ANvCgl8Cnvqo"
      },
      "execution_count": 47,
      "outputs": []
    },
    {
      "cell_type": "markdown",
      "source": [
        "***Split Original Data***"
      ],
      "metadata": {
        "id": "oMmTbMY5n9-Z"
      }
    },
    {
      "cell_type": "code",
      "source": [
        "X_train, X_test, y_train, y_test = train_test_split(X, y, test_size = 0.3, random_state = 2529)"
      ],
      "metadata": {
        "id": "oLyNwF9Kn3uw"
      },
      "execution_count": 48,
      "outputs": []
    },
    {
      "cell_type": "markdown",
      "source": [
        "***Split Random Under Sample Data***"
      ],
      "metadata": {
        "id": "2g2Z-Nezo7FV"
      }
    },
    {
      "cell_type": "code",
      "source": [
        "X_train_rus, X_test_rus, y_train_rus, y_test_rus = train_test_split(X_rus, y_rus, test_size = 0.3, random_state = 2529)"
      ],
      "metadata": {
        "id": "Z_Ea38woob5K"
      },
      "execution_count": 49,
      "outputs": []
    },
    {
      "cell_type": "markdown",
      "source": [
        "***Split Random Over Sample Data***"
      ],
      "metadata": {
        "id": "Ly397pkdpfxZ"
      }
    },
    {
      "cell_type": "code",
      "source": [
        "X_train_ros, X_test_ros, y_train_ros, y_test_ros = train_test_split(X_ros, y_ros, test_size = 0.3, random_state = 2529)"
      ],
      "metadata": {
        "id": "2z-KejtapeMb"
      },
      "execution_count": 50,
      "outputs": []
    },
    {
      "cell_type": "markdown",
      "source": [
        "# **Standardize Features**"
      ],
      "metadata": {
        "id": "mS9lYMfupzn5"
      }
    },
    {
      "cell_type": "markdown",
      "source": [
        "Cedit score, age, tenure etc have different scales, so standardizing them.\n",
        "\n",
        "It is best strategy to first train test split the data and then standardize."
      ],
      "metadata": {
        "id": "6XiHJLHvlb9B"
      }
    },
    {
      "cell_type": "code",
      "source": [
        "from sklearn.preprocessing import StandardScaler"
      ],
      "metadata": {
        "id": "I7mCnk7Op62Q"
      },
      "execution_count": 51,
      "outputs": []
    },
    {
      "cell_type": "code",
      "source": [
        "sc = StandardScaler()"
      ],
      "metadata": {
        "id": "ORIwbYvbqAkk"
      },
      "execution_count": 52,
      "outputs": []
    },
    {
      "cell_type": "markdown",
      "source": [
        "***Standardize Original Data***"
      ],
      "metadata": {
        "id": "Zl1s0J-7qGEX"
      }
    },
    {
      "cell_type": "code",
      "source": [
        "X_train[['CreditScore', 'Age', 'Tenure', 'Balance', 'Estimated Salary']] = sc.fit_transform(X_train[['CreditScore', 'Age', 'Tenure', 'Balance', 'Estimated Salary']])\n"
      ],
      "metadata": {
        "id": "y_RWwQ67qDl8"
      },
      "execution_count": 53,
      "outputs": []
    },
    {
      "cell_type": "code",
      "source": [
        "X_test[['CreditScore', 'Age', 'Tenure', 'Balance', 'Estimated Salary']] = sc.fit_transform(X_test[['CreditScore', 'Age', 'Tenure', 'Balance', 'Estimated Salary']])"
      ],
      "metadata": {
        "id": "paZ6MWH5q_VT"
      },
      "execution_count": 54,
      "outputs": []
    },
    {
      "cell_type": "markdown",
      "source": [
        "***Standardize Random Under Sample Data***"
      ],
      "metadata": {
        "id": "kI4M_cdVqtzc"
      }
    },
    {
      "cell_type": "code",
      "source": [
        "X_train_rus[['CreditScore', 'Age', 'Tenure', 'Balance', 'Estimated Salary']] = sc.fit_transform(X_train_rus[['CreditScore', 'Age', 'Tenure', 'Balance', 'Estimated Salary']])"
      ],
      "metadata": {
        "id": "RREEWhScqrDf"
      },
      "execution_count": 55,
      "outputs": []
    },
    {
      "cell_type": "code",
      "source": [
        "X_test_rus[['CreditScore', 'Age', 'Tenure', 'Balance', 'Estimated Salary']] = sc.fit_transform(X_test_rus[['CreditScore', 'Age', 'Tenure', 'Balance', 'Estimated Salary']])"
      ],
      "metadata": {
        "id": "aT50nsTfrMZ1"
      },
      "execution_count": 56,
      "outputs": []
    },
    {
      "cell_type": "markdown",
      "source": [
        "***Standardize Random Over Sample Data***"
      ],
      "metadata": {
        "id": "97wsryw3rUOt"
      }
    },
    {
      "cell_type": "code",
      "source": [
        "X_train_ros[['CreditScore', 'Age', 'Tenure', 'Balance', 'Estimated Salary']] = sc.fit_transform(X_train_ros[['CreditScore', 'Age', 'Tenure', 'Balance', 'Estimated Salary']])"
      ],
      "metadata": {
        "id": "qtpWpGpVrTM9"
      },
      "execution_count": 57,
      "outputs": []
    },
    {
      "cell_type": "code",
      "source": [
        "X_test_ros[['CreditScore', 'Age', 'Tenure', 'Balance', 'Estimated Salary']] = sc.fit_transform(X_test_ros[['CreditScore', 'Age', 'Tenure', 'Balance', 'Estimated Salary']])"
      ],
      "metadata": {
        "id": "PdDIIr8Qrf_1"
      },
      "execution_count": 58,
      "outputs": []
    },
    {
      "cell_type": "markdown",
      "source": [
        "# **Support Vector Machine Classifier for Original Data**"
      ],
      "metadata": {
        "id": "YYEmYcaurt-s"
      }
    },
    {
      "cell_type": "code",
      "source": [
        "from sklearn.svm import SVC"
      ],
      "metadata": {
        "id": "uFzPTOIqr0gA"
      },
      "execution_count": 59,
      "outputs": []
    },
    {
      "cell_type": "code",
      "source": [
        "svc = SVC()"
      ],
      "metadata": {
        "id": "3FYl4HKCr4Ro"
      },
      "execution_count": 60,
      "outputs": []
    },
    {
      "cell_type": "markdown",
      "source": [],
      "metadata": {
        "id": "pV5Xb5EvsVyZ"
      }
    },
    {
      "cell_type": "code",
      "source": [
        "svc.fit(X_train, y_train)"
      ],
      "metadata": {
        "colab": {
          "base_uri": "https://localhost:8080/",
          "height": 75
        },
        "id": "EP5RBHHyr624",
        "outputId": "652be2ce-31b3-45c0-f848-c6728248da07"
      },
      "execution_count": 61,
      "outputs": [
        {
          "output_type": "execute_result",
          "data": {
            "text/plain": [
              "SVC()"
            ],
            "text/html": [
              "<style>#sk-container-id-1 {color: black;background-color: white;}#sk-container-id-1 pre{padding: 0;}#sk-container-id-1 div.sk-toggleable {background-color: white;}#sk-container-id-1 label.sk-toggleable__label {cursor: pointer;display: block;width: 100%;margin-bottom: 0;padding: 0.3em;box-sizing: border-box;text-align: center;}#sk-container-id-1 label.sk-toggleable__label-arrow:before {content: \"▸\";float: left;margin-right: 0.25em;color: #696969;}#sk-container-id-1 label.sk-toggleable__label-arrow:hover:before {color: black;}#sk-container-id-1 div.sk-estimator:hover label.sk-toggleable__label-arrow:before {color: black;}#sk-container-id-1 div.sk-toggleable__content {max-height: 0;max-width: 0;overflow: hidden;text-align: left;background-color: #f0f8ff;}#sk-container-id-1 div.sk-toggleable__content pre {margin: 0.2em;color: black;border-radius: 0.25em;background-color: #f0f8ff;}#sk-container-id-1 input.sk-toggleable__control:checked~div.sk-toggleable__content {max-height: 200px;max-width: 100%;overflow: auto;}#sk-container-id-1 input.sk-toggleable__control:checked~label.sk-toggleable__label-arrow:before {content: \"▾\";}#sk-container-id-1 div.sk-estimator input.sk-toggleable__control:checked~label.sk-toggleable__label {background-color: #d4ebff;}#sk-container-id-1 div.sk-label input.sk-toggleable__control:checked~label.sk-toggleable__label {background-color: #d4ebff;}#sk-container-id-1 input.sk-hidden--visually {border: 0;clip: rect(1px 1px 1px 1px);clip: rect(1px, 1px, 1px, 1px);height: 1px;margin: -1px;overflow: hidden;padding: 0;position: absolute;width: 1px;}#sk-container-id-1 div.sk-estimator {font-family: monospace;background-color: #f0f8ff;border: 1px dotted black;border-radius: 0.25em;box-sizing: border-box;margin-bottom: 0.5em;}#sk-container-id-1 div.sk-estimator:hover {background-color: #d4ebff;}#sk-container-id-1 div.sk-parallel-item::after {content: \"\";width: 100%;border-bottom: 1px solid gray;flex-grow: 1;}#sk-container-id-1 div.sk-label:hover label.sk-toggleable__label {background-color: #d4ebff;}#sk-container-id-1 div.sk-serial::before {content: \"\";position: absolute;border-left: 1px solid gray;box-sizing: border-box;top: 0;bottom: 0;left: 50%;z-index: 0;}#sk-container-id-1 div.sk-serial {display: flex;flex-direction: column;align-items: center;background-color: white;padding-right: 0.2em;padding-left: 0.2em;position: relative;}#sk-container-id-1 div.sk-item {position: relative;z-index: 1;}#sk-container-id-1 div.sk-parallel {display: flex;align-items: stretch;justify-content: center;background-color: white;position: relative;}#sk-container-id-1 div.sk-item::before, #sk-container-id-1 div.sk-parallel-item::before {content: \"\";position: absolute;border-left: 1px solid gray;box-sizing: border-box;top: 0;bottom: 0;left: 50%;z-index: -1;}#sk-container-id-1 div.sk-parallel-item {display: flex;flex-direction: column;z-index: 1;position: relative;background-color: white;}#sk-container-id-1 div.sk-parallel-item:first-child::after {align-self: flex-end;width: 50%;}#sk-container-id-1 div.sk-parallel-item:last-child::after {align-self: flex-start;width: 50%;}#sk-container-id-1 div.sk-parallel-item:only-child::after {width: 0;}#sk-container-id-1 div.sk-dashed-wrapped {border: 1px dashed gray;margin: 0 0.4em 0.5em 0.4em;box-sizing: border-box;padding-bottom: 0.4em;background-color: white;}#sk-container-id-1 div.sk-label label {font-family: monospace;font-weight: bold;display: inline-block;line-height: 1.2em;}#sk-container-id-1 div.sk-label-container {text-align: center;}#sk-container-id-1 div.sk-container {/* jupyter's `normalize.less` sets `[hidden] { display: none; }` but bootstrap.min.css set `[hidden] { display: none !important; }` so we also need the `!important` here to be able to override the default hidden behavior on the sphinx rendered scikit-learn.org. See: https://github.com/scikit-learn/scikit-learn/issues/21755 */display: inline-block !important;position: relative;}#sk-container-id-1 div.sk-text-repr-fallback {display: none;}</style><div id=\"sk-container-id-1\" class=\"sk-top-container\"><div class=\"sk-text-repr-fallback\"><pre>SVC()</pre><b>In a Jupyter environment, please rerun this cell to show the HTML representation or trust the notebook. <br />On GitHub, the HTML representation is unable to render, please try loading this page with nbviewer.org.</b></div><div class=\"sk-container\" hidden><div class=\"sk-item\"><div class=\"sk-estimator sk-toggleable\"><input class=\"sk-toggleable__control sk-hidden--visually\" id=\"sk-estimator-id-1\" type=\"checkbox\" checked><label for=\"sk-estimator-id-1\" class=\"sk-toggleable__label sk-toggleable__label-arrow\">SVC</label><div class=\"sk-toggleable__content\"><pre>SVC()</pre></div></div></div></div></div>"
            ]
          },
          "metadata": {},
          "execution_count": 61
        }
      ]
    },
    {
      "cell_type": "code",
      "source": [
        "y_pred = svc.predict(X_test)"
      ],
      "metadata": {
        "id": "3EzNMFqUr_oB"
      },
      "execution_count": 62,
      "outputs": []
    },
    {
      "cell_type": "markdown",
      "source": [
        "# **Model Accuracy with Original Data**"
      ],
      "metadata": {
        "id": "41vbdanRsbwg"
      }
    },
    {
      "cell_type": "code",
      "source": [
        "from sklearn.metrics import confusion_matrix, classification_report"
      ],
      "metadata": {
        "id": "fMV4iXYasut5"
      },
      "execution_count": 63,
      "outputs": []
    },
    {
      "cell_type": "code",
      "source": [
        "confusion_matrix(y_test, y_pred)"
      ],
      "metadata": {
        "colab": {
          "base_uri": "https://localhost:8080/"
        },
        "id": "31FYS2Ops3h6",
        "outputId": "01c519d5-e583-4f7e-cb45-81e366eebb49"
      },
      "execution_count": 64,
      "outputs": [
        {
          "output_type": "execute_result",
          "data": {
            "text/plain": [
              "array([[2381,   33],\n",
              "       [ 436,  150]])"
            ]
          },
          "metadata": {},
          "execution_count": 64
        }
      ]
    },
    {
      "cell_type": "code",
      "source": [
        "print(classification_report(y_test, y_pred))"
      ],
      "metadata": {
        "colab": {
          "base_uri": "https://localhost:8080/"
        },
        "id": "u8CIXErvtAmL",
        "outputId": "2f070c49-ac4c-4d2c-81da-7bbb8e31e3f5"
      },
      "execution_count": 65,
      "outputs": [
        {
          "output_type": "stream",
          "name": "stdout",
          "text": [
            "              precision    recall  f1-score   support\n",
            "\n",
            "           0       0.85      0.99      0.91      2414\n",
            "           1       0.82      0.26      0.39       586\n",
            "\n",
            "    accuracy                           0.84      3000\n",
            "   macro avg       0.83      0.62      0.65      3000\n",
            "weighted avg       0.84      0.84      0.81      3000\n",
            "\n"
          ]
        }
      ]
    },
    {
      "cell_type": "markdown",
      "source": [
        "Here 84% is overall accuracy (f-1 score X accuracy) is very good. But here in classification there is an issue. Our category of interest is to see the people leaving the bank whose recall is low 0.26. Therefore, our model is not good of predicting churning because of imbalanced data.\n",
        "\n",
        "So, try hyperparameter tunning to check whether there is any improvement possible without treating for imbalance."
      ],
      "metadata": {
        "id": "U8t7WT8TniRc"
      }
    },
    {
      "cell_type": "markdown",
      "source": [
        "***Hyperparameter Tunning***"
      ],
      "metadata": {
        "id": "G-b_HZhdtdEP"
      }
    },
    {
      "cell_type": "code",
      "source": [
        "from sklearn.model_selection import GridSearchCV"
      ],
      "metadata": {
        "id": "drEWLBCntGso"
      },
      "execution_count": 66,
      "outputs": []
    },
    {
      "cell_type": "code",
      "source": [
        "param_grid = {'C':[0, 1, 1, 10], 'gamma':[1, 0.1, 0.01], 'kernel':['rbf'], 'class_weight':['balanced']}"
      ],
      "metadata": {
        "id": "l_VmGj-7tqhx"
      },
      "execution_count": 67,
      "outputs": []
    },
    {
      "cell_type": "code",
      "source": [
        "grid = GridSearchCV(SVC(), param_grid, refit=True, verbose=2, cv=2)\n",
        "grid.fit(X_train, y_train)"
      ],
      "metadata": {
        "colab": {
          "base_uri": "https://localhost:8080/",
          "height": 971
        },
        "id": "aqElp4lTuMAA",
        "outputId": "a8a8eb1a-35a8-4d8c-a4d3-af91ae6809eb"
      },
      "execution_count": 68,
      "outputs": [
        {
          "output_type": "stream",
          "name": "stdout",
          "text": [
            "Fitting 2 folds for each of 12 candidates, totalling 24 fits\n",
            "[CV] END ....C=0, class_weight=balanced, gamma=1, kernel=rbf; total time=   0.0s\n",
            "[CV] END ....C=0, class_weight=balanced, gamma=1, kernel=rbf; total time=   0.0s\n",
            "[CV] END ..C=0, class_weight=balanced, gamma=0.1, kernel=rbf; total time=   0.0s\n",
            "[CV] END ..C=0, class_weight=balanced, gamma=0.1, kernel=rbf; total time=   0.0s\n",
            "[CV] END .C=0, class_weight=balanced, gamma=0.01, kernel=rbf; total time=   0.0s\n",
            "[CV] END .C=0, class_weight=balanced, gamma=0.01, kernel=rbf; total time=   0.0s\n",
            "[CV] END ....C=1, class_weight=balanced, gamma=1, kernel=rbf; total time=   1.4s\n",
            "[CV] END ....C=1, class_weight=balanced, gamma=1, kernel=rbf; total time=   1.4s\n",
            "[CV] END ..C=1, class_weight=balanced, gamma=0.1, kernel=rbf; total time=   0.9s\n",
            "[CV] END ..C=1, class_weight=balanced, gamma=0.1, kernel=rbf; total time=   1.5s\n",
            "[CV] END .C=1, class_weight=balanced, gamma=0.01, kernel=rbf; total time=   3.4s\n",
            "[CV] END .C=1, class_weight=balanced, gamma=0.01, kernel=rbf; total time=   2.3s\n",
            "[CV] END ....C=1, class_weight=balanced, gamma=1, kernel=rbf; total time=   3.0s\n",
            "[CV] END ....C=1, class_weight=balanced, gamma=1, kernel=rbf; total time=   2.9s\n",
            "[CV] END ..C=1, class_weight=balanced, gamma=0.1, kernel=rbf; total time=   2.9s\n",
            "[CV] END ..C=1, class_weight=balanced, gamma=0.1, kernel=rbf; total time=   3.2s\n",
            "[CV] END .C=1, class_weight=balanced, gamma=0.01, kernel=rbf; total time=   2.7s\n",
            "[CV] END .C=1, class_weight=balanced, gamma=0.01, kernel=rbf; total time=   3.0s\n",
            "[CV] END ...C=10, class_weight=balanced, gamma=1, kernel=rbf; total time=   2.9s\n",
            "[CV] END ...C=10, class_weight=balanced, gamma=1, kernel=rbf; total time=   3.8s\n",
            "[CV] END .C=10, class_weight=balanced, gamma=0.1, kernel=rbf; total time=   1.0s\n",
            "[CV] END .C=10, class_weight=balanced, gamma=0.1, kernel=rbf; total time=   1.1s\n",
            "[CV] END C=10, class_weight=balanced, gamma=0.01, kernel=rbf; total time=   1.0s\n",
            "[CV] END C=10, class_weight=balanced, gamma=0.01, kernel=rbf; total time=   1.0s\n"
          ]
        },
        {
          "output_type": "stream",
          "name": "stderr",
          "text": [
            "/usr/local/lib/python3.10/dist-packages/sklearn/model_selection/_validation.py:378: FitFailedWarning: \n",
            "6 fits failed out of a total of 24.\n",
            "The score on these train-test partitions for these parameters will be set to nan.\n",
            "If these failures are not expected, you can try to debug them by setting error_score='raise'.\n",
            "\n",
            "Below are more details about the failures:\n",
            "--------------------------------------------------------------------------------\n",
            "6 fits failed with the following error:\n",
            "Traceback (most recent call last):\n",
            "  File \"/usr/local/lib/python3.10/dist-packages/sklearn/model_selection/_validation.py\", line 686, in _fit_and_score\n",
            "    estimator.fit(X_train, y_train, **fit_params)\n",
            "  File \"/usr/local/lib/python3.10/dist-packages/sklearn/svm/_base.py\", line 180, in fit\n",
            "    self._validate_params()\n",
            "  File \"/usr/local/lib/python3.10/dist-packages/sklearn/base.py\", line 600, in _validate_params\n",
            "    validate_parameter_constraints(\n",
            "  File \"/usr/local/lib/python3.10/dist-packages/sklearn/utils/_param_validation.py\", line 97, in validate_parameter_constraints\n",
            "    raise InvalidParameterError(\n",
            "sklearn.utils._param_validation.InvalidParameterError: The 'C' parameter of SVC must be a float in the range (0.0, inf). Got 0 instead.\n",
            "\n",
            "  warnings.warn(some_fits_failed_message, FitFailedWarning)\n",
            "/usr/local/lib/python3.10/dist-packages/sklearn/model_selection/_search.py:952: UserWarning: One or more of the test scores are non-finite: [       nan        nan        nan 0.77328571 0.73885714 0.709\n",
            " 0.77328571 0.73885714 0.709      0.77657143 0.741      0.71628571]\n",
            "  warnings.warn(\n"
          ]
        },
        {
          "output_type": "execute_result",
          "data": {
            "text/plain": [
              "GridSearchCV(cv=2, estimator=SVC(),\n",
              "             param_grid={'C': [0, 1, 1, 10], 'class_weight': ['balanced'],\n",
              "                         'gamma': [1, 0.1, 0.01], 'kernel': ['rbf']},\n",
              "             verbose=2)"
            ],
            "text/html": [
              "<style>#sk-container-id-2 {color: black;background-color: white;}#sk-container-id-2 pre{padding: 0;}#sk-container-id-2 div.sk-toggleable {background-color: white;}#sk-container-id-2 label.sk-toggleable__label {cursor: pointer;display: block;width: 100%;margin-bottom: 0;padding: 0.3em;box-sizing: border-box;text-align: center;}#sk-container-id-2 label.sk-toggleable__label-arrow:before {content: \"▸\";float: left;margin-right: 0.25em;color: #696969;}#sk-container-id-2 label.sk-toggleable__label-arrow:hover:before {color: black;}#sk-container-id-2 div.sk-estimator:hover label.sk-toggleable__label-arrow:before {color: black;}#sk-container-id-2 div.sk-toggleable__content {max-height: 0;max-width: 0;overflow: hidden;text-align: left;background-color: #f0f8ff;}#sk-container-id-2 div.sk-toggleable__content pre {margin: 0.2em;color: black;border-radius: 0.25em;background-color: #f0f8ff;}#sk-container-id-2 input.sk-toggleable__control:checked~div.sk-toggleable__content {max-height: 200px;max-width: 100%;overflow: auto;}#sk-container-id-2 input.sk-toggleable__control:checked~label.sk-toggleable__label-arrow:before {content: \"▾\";}#sk-container-id-2 div.sk-estimator input.sk-toggleable__control:checked~label.sk-toggleable__label {background-color: #d4ebff;}#sk-container-id-2 div.sk-label input.sk-toggleable__control:checked~label.sk-toggleable__label {background-color: #d4ebff;}#sk-container-id-2 input.sk-hidden--visually {border: 0;clip: rect(1px 1px 1px 1px);clip: rect(1px, 1px, 1px, 1px);height: 1px;margin: -1px;overflow: hidden;padding: 0;position: absolute;width: 1px;}#sk-container-id-2 div.sk-estimator {font-family: monospace;background-color: #f0f8ff;border: 1px dotted black;border-radius: 0.25em;box-sizing: border-box;margin-bottom: 0.5em;}#sk-container-id-2 div.sk-estimator:hover {background-color: #d4ebff;}#sk-container-id-2 div.sk-parallel-item::after {content: \"\";width: 100%;border-bottom: 1px solid gray;flex-grow: 1;}#sk-container-id-2 div.sk-label:hover label.sk-toggleable__label {background-color: #d4ebff;}#sk-container-id-2 div.sk-serial::before {content: \"\";position: absolute;border-left: 1px solid gray;box-sizing: border-box;top: 0;bottom: 0;left: 50%;z-index: 0;}#sk-container-id-2 div.sk-serial {display: flex;flex-direction: column;align-items: center;background-color: white;padding-right: 0.2em;padding-left: 0.2em;position: relative;}#sk-container-id-2 div.sk-item {position: relative;z-index: 1;}#sk-container-id-2 div.sk-parallel {display: flex;align-items: stretch;justify-content: center;background-color: white;position: relative;}#sk-container-id-2 div.sk-item::before, #sk-container-id-2 div.sk-parallel-item::before {content: \"\";position: absolute;border-left: 1px solid gray;box-sizing: border-box;top: 0;bottom: 0;left: 50%;z-index: -1;}#sk-container-id-2 div.sk-parallel-item {display: flex;flex-direction: column;z-index: 1;position: relative;background-color: white;}#sk-container-id-2 div.sk-parallel-item:first-child::after {align-self: flex-end;width: 50%;}#sk-container-id-2 div.sk-parallel-item:last-child::after {align-self: flex-start;width: 50%;}#sk-container-id-2 div.sk-parallel-item:only-child::after {width: 0;}#sk-container-id-2 div.sk-dashed-wrapped {border: 1px dashed gray;margin: 0 0.4em 0.5em 0.4em;box-sizing: border-box;padding-bottom: 0.4em;background-color: white;}#sk-container-id-2 div.sk-label label {font-family: monospace;font-weight: bold;display: inline-block;line-height: 1.2em;}#sk-container-id-2 div.sk-label-container {text-align: center;}#sk-container-id-2 div.sk-container {/* jupyter's `normalize.less` sets `[hidden] { display: none; }` but bootstrap.min.css set `[hidden] { display: none !important; }` so we also need the `!important` here to be able to override the default hidden behavior on the sphinx rendered scikit-learn.org. See: https://github.com/scikit-learn/scikit-learn/issues/21755 */display: inline-block !important;position: relative;}#sk-container-id-2 div.sk-text-repr-fallback {display: none;}</style><div id=\"sk-container-id-2\" class=\"sk-top-container\"><div class=\"sk-text-repr-fallback\"><pre>GridSearchCV(cv=2, estimator=SVC(),\n",
              "             param_grid={&#x27;C&#x27;: [0, 1, 1, 10], &#x27;class_weight&#x27;: [&#x27;balanced&#x27;],\n",
              "                         &#x27;gamma&#x27;: [1, 0.1, 0.01], &#x27;kernel&#x27;: [&#x27;rbf&#x27;]},\n",
              "             verbose=2)</pre><b>In a Jupyter environment, please rerun this cell to show the HTML representation or trust the notebook. <br />On GitHub, the HTML representation is unable to render, please try loading this page with nbviewer.org.</b></div><div class=\"sk-container\" hidden><div class=\"sk-item sk-dashed-wrapped\"><div class=\"sk-label-container\"><div class=\"sk-label sk-toggleable\"><input class=\"sk-toggleable__control sk-hidden--visually\" id=\"sk-estimator-id-2\" type=\"checkbox\" ><label for=\"sk-estimator-id-2\" class=\"sk-toggleable__label sk-toggleable__label-arrow\">GridSearchCV</label><div class=\"sk-toggleable__content\"><pre>GridSearchCV(cv=2, estimator=SVC(),\n",
              "             param_grid={&#x27;C&#x27;: [0, 1, 1, 10], &#x27;class_weight&#x27;: [&#x27;balanced&#x27;],\n",
              "                         &#x27;gamma&#x27;: [1, 0.1, 0.01], &#x27;kernel&#x27;: [&#x27;rbf&#x27;]},\n",
              "             verbose=2)</pre></div></div></div><div class=\"sk-parallel\"><div class=\"sk-parallel-item\"><div class=\"sk-item\"><div class=\"sk-label-container\"><div class=\"sk-label sk-toggleable\"><input class=\"sk-toggleable__control sk-hidden--visually\" id=\"sk-estimator-id-3\" type=\"checkbox\" ><label for=\"sk-estimator-id-3\" class=\"sk-toggleable__label sk-toggleable__label-arrow\">estimator: SVC</label><div class=\"sk-toggleable__content\"><pre>SVC()</pre></div></div></div><div class=\"sk-serial\"><div class=\"sk-item\"><div class=\"sk-estimator sk-toggleable\"><input class=\"sk-toggleable__control sk-hidden--visually\" id=\"sk-estimator-id-4\" type=\"checkbox\" ><label for=\"sk-estimator-id-4\" class=\"sk-toggleable__label sk-toggleable__label-arrow\">SVC</label><div class=\"sk-toggleable__content\"><pre>SVC()</pre></div></div></div></div></div></div></div></div></div></div>"
            ]
          },
          "metadata": {},
          "execution_count": 68
        }
      ]
    },
    {
      "cell_type": "code",
      "source": [
        "print(grid.best_estimator_)\n",
        "# below is the bets support vector classifier which we got from gridSearchCV"
      ],
      "metadata": {
        "colab": {
          "base_uri": "https://localhost:8080/"
        },
        "id": "xA2DIAcAuf-D",
        "outputId": "8f6ae2d3-a08e-45b6-fddb-85519d32b5d4"
      },
      "execution_count": 69,
      "outputs": [
        {
          "output_type": "stream",
          "name": "stdout",
          "text": [
            "SVC(C=10, class_weight='balanced', gamma=1)\n"
          ]
        }
      ]
    },
    {
      "cell_type": "code",
      "source": [
        "grid_predictions = grid.predict(X_test)"
      ],
      "metadata": {
        "id": "HMUymMVgusEV"
      },
      "execution_count": 70,
      "outputs": []
    },
    {
      "cell_type": "code",
      "source": [
        "confusion_matrix(y_test, grid_predictions)"
      ],
      "metadata": {
        "colab": {
          "base_uri": "https://localhost:8080/"
        },
        "id": "JsgmoUp7uzh5",
        "outputId": "0538c0dd-5c2a-4967-a48e-147ba35b92e8"
      },
      "execution_count": 71,
      "outputs": [
        {
          "output_type": "execute_result",
          "data": {
            "text/plain": [
              "array([[2159,  255],\n",
              "       [ 343,  243]])"
            ]
          },
          "metadata": {},
          "execution_count": 71
        }
      ]
    },
    {
      "cell_type": "code",
      "source": [
        "print(classification_report(y_test, grid_predictions))"
      ],
      "metadata": {
        "colab": {
          "base_uri": "https://localhost:8080/"
        },
        "id": "zD789Qk-u5fd",
        "outputId": "cdbd191e-9339-481a-d5b1-07b53fed448d"
      },
      "execution_count": 72,
      "outputs": [
        {
          "output_type": "stream",
          "name": "stdout",
          "text": [
            "              precision    recall  f1-score   support\n",
            "\n",
            "           0       0.86      0.89      0.88      2414\n",
            "           1       0.49      0.41      0.45       586\n",
            "\n",
            "    accuracy                           0.80      3000\n",
            "   macro avg       0.68      0.65      0.66      3000\n",
            "weighted avg       0.79      0.80      0.79      3000\n",
            "\n"
          ]
        }
      ]
    },
    {
      "cell_type": "markdown",
      "source": [
        "Here although the overall accuracy is 80% less than the previous (86%) but this model is better than previous one as it is better in predicting the churn."
      ],
      "metadata": {
        "id": "O8X5JNN4pd2Q"
      }
    },
    {
      "cell_type": "markdown",
      "source": [
        "# **SVC for Model with Random Under Sampling**"
      ],
      "metadata": {
        "id": "ywW1WfGQvM4F"
      }
    },
    {
      "cell_type": "code",
      "source": [
        "svc_rus = SVC()"
      ],
      "metadata": {
        "id": "qRAsGiF8vUnd"
      },
      "execution_count": 73,
      "outputs": []
    },
    {
      "cell_type": "code",
      "source": [
        "svc_rus.fit(X_train_rus, y_train_rus)"
      ],
      "metadata": {
        "colab": {
          "base_uri": "https://localhost:8080/",
          "height": 75
        },
        "id": "M65dHtC5vZZr",
        "outputId": "b14948c1-0640-4c93-9103-6c123062728f"
      },
      "execution_count": 74,
      "outputs": [
        {
          "output_type": "execute_result",
          "data": {
            "text/plain": [
              "SVC()"
            ],
            "text/html": [
              "<style>#sk-container-id-3 {color: black;background-color: white;}#sk-container-id-3 pre{padding: 0;}#sk-container-id-3 div.sk-toggleable {background-color: white;}#sk-container-id-3 label.sk-toggleable__label {cursor: pointer;display: block;width: 100%;margin-bottom: 0;padding: 0.3em;box-sizing: border-box;text-align: center;}#sk-container-id-3 label.sk-toggleable__label-arrow:before {content: \"▸\";float: left;margin-right: 0.25em;color: #696969;}#sk-container-id-3 label.sk-toggleable__label-arrow:hover:before {color: black;}#sk-container-id-3 div.sk-estimator:hover label.sk-toggleable__label-arrow:before {color: black;}#sk-container-id-3 div.sk-toggleable__content {max-height: 0;max-width: 0;overflow: hidden;text-align: left;background-color: #f0f8ff;}#sk-container-id-3 div.sk-toggleable__content pre {margin: 0.2em;color: black;border-radius: 0.25em;background-color: #f0f8ff;}#sk-container-id-3 input.sk-toggleable__control:checked~div.sk-toggleable__content {max-height: 200px;max-width: 100%;overflow: auto;}#sk-container-id-3 input.sk-toggleable__control:checked~label.sk-toggleable__label-arrow:before {content: \"▾\";}#sk-container-id-3 div.sk-estimator input.sk-toggleable__control:checked~label.sk-toggleable__label {background-color: #d4ebff;}#sk-container-id-3 div.sk-label input.sk-toggleable__control:checked~label.sk-toggleable__label {background-color: #d4ebff;}#sk-container-id-3 input.sk-hidden--visually {border: 0;clip: rect(1px 1px 1px 1px);clip: rect(1px, 1px, 1px, 1px);height: 1px;margin: -1px;overflow: hidden;padding: 0;position: absolute;width: 1px;}#sk-container-id-3 div.sk-estimator {font-family: monospace;background-color: #f0f8ff;border: 1px dotted black;border-radius: 0.25em;box-sizing: border-box;margin-bottom: 0.5em;}#sk-container-id-3 div.sk-estimator:hover {background-color: #d4ebff;}#sk-container-id-3 div.sk-parallel-item::after {content: \"\";width: 100%;border-bottom: 1px solid gray;flex-grow: 1;}#sk-container-id-3 div.sk-label:hover label.sk-toggleable__label {background-color: #d4ebff;}#sk-container-id-3 div.sk-serial::before {content: \"\";position: absolute;border-left: 1px solid gray;box-sizing: border-box;top: 0;bottom: 0;left: 50%;z-index: 0;}#sk-container-id-3 div.sk-serial {display: flex;flex-direction: column;align-items: center;background-color: white;padding-right: 0.2em;padding-left: 0.2em;position: relative;}#sk-container-id-3 div.sk-item {position: relative;z-index: 1;}#sk-container-id-3 div.sk-parallel {display: flex;align-items: stretch;justify-content: center;background-color: white;position: relative;}#sk-container-id-3 div.sk-item::before, #sk-container-id-3 div.sk-parallel-item::before {content: \"\";position: absolute;border-left: 1px solid gray;box-sizing: border-box;top: 0;bottom: 0;left: 50%;z-index: -1;}#sk-container-id-3 div.sk-parallel-item {display: flex;flex-direction: column;z-index: 1;position: relative;background-color: white;}#sk-container-id-3 div.sk-parallel-item:first-child::after {align-self: flex-end;width: 50%;}#sk-container-id-3 div.sk-parallel-item:last-child::after {align-self: flex-start;width: 50%;}#sk-container-id-3 div.sk-parallel-item:only-child::after {width: 0;}#sk-container-id-3 div.sk-dashed-wrapped {border: 1px dashed gray;margin: 0 0.4em 0.5em 0.4em;box-sizing: border-box;padding-bottom: 0.4em;background-color: white;}#sk-container-id-3 div.sk-label label {font-family: monospace;font-weight: bold;display: inline-block;line-height: 1.2em;}#sk-container-id-3 div.sk-label-container {text-align: center;}#sk-container-id-3 div.sk-container {/* jupyter's `normalize.less` sets `[hidden] { display: none; }` but bootstrap.min.css set `[hidden] { display: none !important; }` so we also need the `!important` here to be able to override the default hidden behavior on the sphinx rendered scikit-learn.org. See: https://github.com/scikit-learn/scikit-learn/issues/21755 */display: inline-block !important;position: relative;}#sk-container-id-3 div.sk-text-repr-fallback {display: none;}</style><div id=\"sk-container-id-3\" class=\"sk-top-container\"><div class=\"sk-text-repr-fallback\"><pre>SVC()</pre><b>In a Jupyter environment, please rerun this cell to show the HTML representation or trust the notebook. <br />On GitHub, the HTML representation is unable to render, please try loading this page with nbviewer.org.</b></div><div class=\"sk-container\" hidden><div class=\"sk-item\"><div class=\"sk-estimator sk-toggleable\"><input class=\"sk-toggleable__control sk-hidden--visually\" id=\"sk-estimator-id-5\" type=\"checkbox\" checked><label for=\"sk-estimator-id-5\" class=\"sk-toggleable__label sk-toggleable__label-arrow\">SVC</label><div class=\"sk-toggleable__content\"><pre>SVC()</pre></div></div></div></div></div>"
            ]
          },
          "metadata": {},
          "execution_count": 74
        }
      ]
    },
    {
      "cell_type": "code",
      "source": [
        "y_pred_rus = svc_rus.predict(X_test_rus)"
      ],
      "metadata": {
        "id": "gX5111Hzvf3o"
      },
      "execution_count": 75,
      "outputs": []
    },
    {
      "cell_type": "markdown",
      "source": [
        "# **Model Accuracy of Random Under Sample Model**"
      ],
      "metadata": {
        "id": "GsZoySB0vvuR"
      }
    },
    {
      "cell_type": "code",
      "source": [
        "confusion_matrix(y_test_rus, y_pred_rus)"
      ],
      "metadata": {
        "colab": {
          "base_uri": "https://localhost:8080/"
        },
        "id": "1pFs6hbyv6Vj",
        "outputId": "9b0e28a7-abd5-43be-8a93-2439789657ab"
      },
      "execution_count": 76,
      "outputs": [
        {
          "output_type": "execute_result",
          "data": {
            "text/plain": [
              "array([[470, 157],\n",
              "       [174, 422]])"
            ]
          },
          "metadata": {},
          "execution_count": 76
        }
      ]
    },
    {
      "cell_type": "code",
      "source": [
        "print(classification_report(y_test_rus, y_pred_rus))"
      ],
      "metadata": {
        "colab": {
          "base_uri": "https://localhost:8080/"
        },
        "id": "rC0i8a6qwGNN",
        "outputId": "948c92f6-e50e-44b0-b896-927e65053a84"
      },
      "execution_count": 77,
      "outputs": [
        {
          "output_type": "stream",
          "name": "stdout",
          "text": [
            "              precision    recall  f1-score   support\n",
            "\n",
            "           0       0.73      0.75      0.74       627\n",
            "           1       0.73      0.71      0.72       596\n",
            "\n",
            "    accuracy                           0.73      1223\n",
            "   macro avg       0.73      0.73      0.73      1223\n",
            "weighted avg       0.73      0.73      0.73      1223\n",
            "\n"
          ]
        }
      ]
    },
    {
      "cell_type": "markdown",
      "source": [
        "***Hyperparamater Tunning***"
      ],
      "metadata": {
        "id": "gI2JkC2JwUcM"
      }
    },
    {
      "cell_type": "code",
      "source": [
        "param_grid = {'C':[0, 1, 1, 10], 'gamma':[1, 0.1, 0.01], 'kernel':['rbf'], 'class_weight':['balanced']}"
      ],
      "metadata": {
        "id": "bb8tPwAbwPWd"
      },
      "execution_count": 78,
      "outputs": []
    },
    {
      "cell_type": "code",
      "source": [
        "grid_rus = GridSearchCV(SVC(), param_grid, refit = True, verbose = 2, cv=2)\n",
        "grid_rus.fit(X_train_rus, y_train_rus)"
      ],
      "metadata": {
        "colab": {
          "base_uri": "https://localhost:8080/",
          "height": 971
        },
        "id": "9xruDrkfwhe-",
        "outputId": "1631c249-f977-4979-fbd4-1a52fc82c563"
      },
      "execution_count": 79,
      "outputs": [
        {
          "output_type": "stream",
          "name": "stdout",
          "text": [
            "Fitting 2 folds for each of 12 candidates, totalling 24 fits\n",
            "[CV] END ....C=0, class_weight=balanced, gamma=1, kernel=rbf; total time=   0.0s\n",
            "[CV] END ....C=0, class_weight=balanced, gamma=1, kernel=rbf; total time=   0.0s\n",
            "[CV] END ..C=0, class_weight=balanced, gamma=0.1, kernel=rbf; total time=   0.0s\n",
            "[CV] END ..C=0, class_weight=balanced, gamma=0.1, kernel=rbf; total time=   0.0s\n",
            "[CV] END .C=0, class_weight=balanced, gamma=0.01, kernel=rbf; total time=   0.0s\n",
            "[CV] END .C=0, class_weight=balanced, gamma=0.01, kernel=rbf; total time=   0.0s\n",
            "[CV] END ....C=1, class_weight=balanced, gamma=1, kernel=rbf; total time=   0.3s\n",
            "[CV] END ....C=1, class_weight=balanced, gamma=1, kernel=rbf; total time=   0.2s\n",
            "[CV] END ..C=1, class_weight=balanced, gamma=0.1, kernel=rbf; total time=   0.2s\n",
            "[CV] END ..C=1, class_weight=balanced, gamma=0.1, kernel=rbf; total time=   0.2s\n",
            "[CV] END .C=1, class_weight=balanced, gamma=0.01, kernel=rbf; total time=   0.2s\n",
            "[CV] END .C=1, class_weight=balanced, gamma=0.01, kernel=rbf; total time=   0.4s\n",
            "[CV] END ....C=1, class_weight=balanced, gamma=1, kernel=rbf; total time=   0.5s\n",
            "[CV] END ....C=1, class_weight=balanced, gamma=1, kernel=rbf; total time=   0.5s\n",
            "[CV] END ..C=1, class_weight=balanced, gamma=0.1, kernel=rbf; total time=   0.3s\n",
            "[CV] END ..C=1, class_weight=balanced, gamma=0.1, kernel=rbf; total time=   0.3s\n",
            "[CV] END .C=1, class_weight=balanced, gamma=0.01, kernel=rbf; total time=   0.3s\n",
            "[CV] END .C=1, class_weight=balanced, gamma=0.01, kernel=rbf; total time=   0.4s\n",
            "[CV] END ...C=10, class_weight=balanced, gamma=1, kernel=rbf; total time=   0.3s\n",
            "[CV] END ...C=10, class_weight=balanced, gamma=1, kernel=rbf; total time=   0.2s\n",
            "[CV] END .C=10, class_weight=balanced, gamma=0.1, kernel=rbf; total time=   0.2s\n",
            "[CV] END .C=10, class_weight=balanced, gamma=0.1, kernel=rbf; total time=   0.2s\n",
            "[CV] END C=10, class_weight=balanced, gamma=0.01, kernel=rbf; total time=   0.2s\n",
            "[CV] END C=10, class_weight=balanced, gamma=0.01, kernel=rbf; total time=   0.2s\n"
          ]
        },
        {
          "output_type": "stream",
          "name": "stderr",
          "text": [
            "/usr/local/lib/python3.10/dist-packages/sklearn/model_selection/_validation.py:378: FitFailedWarning: \n",
            "6 fits failed out of a total of 24.\n",
            "The score on these train-test partitions for these parameters will be set to nan.\n",
            "If these failures are not expected, you can try to debug them by setting error_score='raise'.\n",
            "\n",
            "Below are more details about the failures:\n",
            "--------------------------------------------------------------------------------\n",
            "6 fits failed with the following error:\n",
            "Traceback (most recent call last):\n",
            "  File \"/usr/local/lib/python3.10/dist-packages/sklearn/model_selection/_validation.py\", line 686, in _fit_and_score\n",
            "    estimator.fit(X_train, y_train, **fit_params)\n",
            "  File \"/usr/local/lib/python3.10/dist-packages/sklearn/svm/_base.py\", line 180, in fit\n",
            "    self._validate_params()\n",
            "  File \"/usr/local/lib/python3.10/dist-packages/sklearn/base.py\", line 600, in _validate_params\n",
            "    validate_parameter_constraints(\n",
            "  File \"/usr/local/lib/python3.10/dist-packages/sklearn/utils/_param_validation.py\", line 97, in validate_parameter_constraints\n",
            "    raise InvalidParameterError(\n",
            "sklearn.utils._param_validation.InvalidParameterError: The 'C' parameter of SVC must be a float in the range (0.0, inf). Got 0 instead.\n",
            "\n",
            "  warnings.warn(some_fits_failed_message, FitFailedWarning)\n",
            "/usr/local/lib/python3.10/dist-packages/sklearn/model_selection/_search.py:952: UserWarning: One or more of the test scores are non-finite: [       nan        nan        nan 0.70080485 0.73062425 0.71904751\n",
            " 0.70080485 0.73062425 0.71904751 0.67414926 0.71098226 0.72571492]\n",
            "  warnings.warn(\n"
          ]
        },
        {
          "output_type": "execute_result",
          "data": {
            "text/plain": [
              "GridSearchCV(cv=2, estimator=SVC(),\n",
              "             param_grid={'C': [0, 1, 1, 10], 'class_weight': ['balanced'],\n",
              "                         'gamma': [1, 0.1, 0.01], 'kernel': ['rbf']},\n",
              "             verbose=2)"
            ],
            "text/html": [
              "<style>#sk-container-id-4 {color: black;background-color: white;}#sk-container-id-4 pre{padding: 0;}#sk-container-id-4 div.sk-toggleable {background-color: white;}#sk-container-id-4 label.sk-toggleable__label {cursor: pointer;display: block;width: 100%;margin-bottom: 0;padding: 0.3em;box-sizing: border-box;text-align: center;}#sk-container-id-4 label.sk-toggleable__label-arrow:before {content: \"▸\";float: left;margin-right: 0.25em;color: #696969;}#sk-container-id-4 label.sk-toggleable__label-arrow:hover:before {color: black;}#sk-container-id-4 div.sk-estimator:hover label.sk-toggleable__label-arrow:before {color: black;}#sk-container-id-4 div.sk-toggleable__content {max-height: 0;max-width: 0;overflow: hidden;text-align: left;background-color: #f0f8ff;}#sk-container-id-4 div.sk-toggleable__content pre {margin: 0.2em;color: black;border-radius: 0.25em;background-color: #f0f8ff;}#sk-container-id-4 input.sk-toggleable__control:checked~div.sk-toggleable__content {max-height: 200px;max-width: 100%;overflow: auto;}#sk-container-id-4 input.sk-toggleable__control:checked~label.sk-toggleable__label-arrow:before {content: \"▾\";}#sk-container-id-4 div.sk-estimator input.sk-toggleable__control:checked~label.sk-toggleable__label {background-color: #d4ebff;}#sk-container-id-4 div.sk-label input.sk-toggleable__control:checked~label.sk-toggleable__label {background-color: #d4ebff;}#sk-container-id-4 input.sk-hidden--visually {border: 0;clip: rect(1px 1px 1px 1px);clip: rect(1px, 1px, 1px, 1px);height: 1px;margin: -1px;overflow: hidden;padding: 0;position: absolute;width: 1px;}#sk-container-id-4 div.sk-estimator {font-family: monospace;background-color: #f0f8ff;border: 1px dotted black;border-radius: 0.25em;box-sizing: border-box;margin-bottom: 0.5em;}#sk-container-id-4 div.sk-estimator:hover {background-color: #d4ebff;}#sk-container-id-4 div.sk-parallel-item::after {content: \"\";width: 100%;border-bottom: 1px solid gray;flex-grow: 1;}#sk-container-id-4 div.sk-label:hover label.sk-toggleable__label {background-color: #d4ebff;}#sk-container-id-4 div.sk-serial::before {content: \"\";position: absolute;border-left: 1px solid gray;box-sizing: border-box;top: 0;bottom: 0;left: 50%;z-index: 0;}#sk-container-id-4 div.sk-serial {display: flex;flex-direction: column;align-items: center;background-color: white;padding-right: 0.2em;padding-left: 0.2em;position: relative;}#sk-container-id-4 div.sk-item {position: relative;z-index: 1;}#sk-container-id-4 div.sk-parallel {display: flex;align-items: stretch;justify-content: center;background-color: white;position: relative;}#sk-container-id-4 div.sk-item::before, #sk-container-id-4 div.sk-parallel-item::before {content: \"\";position: absolute;border-left: 1px solid gray;box-sizing: border-box;top: 0;bottom: 0;left: 50%;z-index: -1;}#sk-container-id-4 div.sk-parallel-item {display: flex;flex-direction: column;z-index: 1;position: relative;background-color: white;}#sk-container-id-4 div.sk-parallel-item:first-child::after {align-self: flex-end;width: 50%;}#sk-container-id-4 div.sk-parallel-item:last-child::after {align-self: flex-start;width: 50%;}#sk-container-id-4 div.sk-parallel-item:only-child::after {width: 0;}#sk-container-id-4 div.sk-dashed-wrapped {border: 1px dashed gray;margin: 0 0.4em 0.5em 0.4em;box-sizing: border-box;padding-bottom: 0.4em;background-color: white;}#sk-container-id-4 div.sk-label label {font-family: monospace;font-weight: bold;display: inline-block;line-height: 1.2em;}#sk-container-id-4 div.sk-label-container {text-align: center;}#sk-container-id-4 div.sk-container {/* jupyter's `normalize.less` sets `[hidden] { display: none; }` but bootstrap.min.css set `[hidden] { display: none !important; }` so we also need the `!important` here to be able to override the default hidden behavior on the sphinx rendered scikit-learn.org. See: https://github.com/scikit-learn/scikit-learn/issues/21755 */display: inline-block !important;position: relative;}#sk-container-id-4 div.sk-text-repr-fallback {display: none;}</style><div id=\"sk-container-id-4\" class=\"sk-top-container\"><div class=\"sk-text-repr-fallback\"><pre>GridSearchCV(cv=2, estimator=SVC(),\n",
              "             param_grid={&#x27;C&#x27;: [0, 1, 1, 10], &#x27;class_weight&#x27;: [&#x27;balanced&#x27;],\n",
              "                         &#x27;gamma&#x27;: [1, 0.1, 0.01], &#x27;kernel&#x27;: [&#x27;rbf&#x27;]},\n",
              "             verbose=2)</pre><b>In a Jupyter environment, please rerun this cell to show the HTML representation or trust the notebook. <br />On GitHub, the HTML representation is unable to render, please try loading this page with nbviewer.org.</b></div><div class=\"sk-container\" hidden><div class=\"sk-item sk-dashed-wrapped\"><div class=\"sk-label-container\"><div class=\"sk-label sk-toggleable\"><input class=\"sk-toggleable__control sk-hidden--visually\" id=\"sk-estimator-id-6\" type=\"checkbox\" ><label for=\"sk-estimator-id-6\" class=\"sk-toggleable__label sk-toggleable__label-arrow\">GridSearchCV</label><div class=\"sk-toggleable__content\"><pre>GridSearchCV(cv=2, estimator=SVC(),\n",
              "             param_grid={&#x27;C&#x27;: [0, 1, 1, 10], &#x27;class_weight&#x27;: [&#x27;balanced&#x27;],\n",
              "                         &#x27;gamma&#x27;: [1, 0.1, 0.01], &#x27;kernel&#x27;: [&#x27;rbf&#x27;]},\n",
              "             verbose=2)</pre></div></div></div><div class=\"sk-parallel\"><div class=\"sk-parallel-item\"><div class=\"sk-item\"><div class=\"sk-label-container\"><div class=\"sk-label sk-toggleable\"><input class=\"sk-toggleable__control sk-hidden--visually\" id=\"sk-estimator-id-7\" type=\"checkbox\" ><label for=\"sk-estimator-id-7\" class=\"sk-toggleable__label sk-toggleable__label-arrow\">estimator: SVC</label><div class=\"sk-toggleable__content\"><pre>SVC()</pre></div></div></div><div class=\"sk-serial\"><div class=\"sk-item\"><div class=\"sk-estimator sk-toggleable\"><input class=\"sk-toggleable__control sk-hidden--visually\" id=\"sk-estimator-id-8\" type=\"checkbox\" ><label for=\"sk-estimator-id-8\" class=\"sk-toggleable__label sk-toggleable__label-arrow\">SVC</label><div class=\"sk-toggleable__content\"><pre>SVC()</pre></div></div></div></div></div></div></div></div></div></div>"
            ]
          },
          "metadata": {},
          "execution_count": 79
        }
      ]
    },
    {
      "cell_type": "code",
      "source": [
        "print(grid_rus.best_estimator_)"
      ],
      "metadata": {
        "colab": {
          "base_uri": "https://localhost:8080/"
        },
        "id": "dfxFKRD-xBe-",
        "outputId": "27af1d58-5d83-4bde-f7bb-10369a30379c"
      },
      "execution_count": 80,
      "outputs": [
        {
          "output_type": "stream",
          "name": "stdout",
          "text": [
            "SVC(C=1, class_weight='balanced', gamma=0.1)\n"
          ]
        }
      ]
    },
    {
      "cell_type": "code",
      "source": [
        "grid_predictions_rus = grid_rus.predict(X_test_rus)"
      ],
      "metadata": {
        "id": "1IghUpnwxKHz"
      },
      "execution_count": 81,
      "outputs": []
    },
    {
      "cell_type": "code",
      "source": [
        "confusion_matrix(y_test_rus, grid_predictions_rus)"
      ],
      "metadata": {
        "colab": {
          "base_uri": "https://localhost:8080/"
        },
        "id": "MyeR45RpxSl7",
        "outputId": "e246a28b-2522-45e4-c2a6-59a62d1bed86"
      },
      "execution_count": 82,
      "outputs": [
        {
          "output_type": "execute_result",
          "data": {
            "text/plain": [
              "array([[476, 151],\n",
              "       [172, 424]])"
            ]
          },
          "metadata": {},
          "execution_count": 82
        }
      ]
    },
    {
      "cell_type": "code",
      "source": [
        "print(classification_report(y_test_rus, grid_predictions_rus))"
      ],
      "metadata": {
        "colab": {
          "base_uri": "https://localhost:8080/"
        },
        "id": "FZSD9_jwxgSF",
        "outputId": "b61e8228-bdd3-456b-9b3a-72eb0322dafc"
      },
      "execution_count": 83,
      "outputs": [
        {
          "output_type": "stream",
          "name": "stdout",
          "text": [
            "              precision    recall  f1-score   support\n",
            "\n",
            "           0       0.73      0.76      0.75       627\n",
            "           1       0.74      0.71      0.72       596\n",
            "\n",
            "    accuracy                           0.74      1223\n",
            "   macro avg       0.74      0.74      0.74      1223\n",
            "weighted avg       0.74      0.74      0.74      1223\n",
            "\n"
          ]
        }
      ]
    },
    {
      "cell_type": "code",
      "source": [],
      "metadata": {
        "id": "A_7Wrrj5yHNC"
      },
      "execution_count": 83,
      "outputs": []
    },
    {
      "cell_type": "markdown",
      "source": [
        "# **SVC for Model with Random Over Sampling**"
      ],
      "metadata": {
        "id": "yuP_jQAlzoKE"
      }
    },
    {
      "cell_type": "code",
      "source": [
        "svc_ros = SVC()"
      ],
      "metadata": {
        "id": "oqZog3cgzxut"
      },
      "execution_count": 84,
      "outputs": []
    },
    {
      "cell_type": "code",
      "source": [
        "svc_ros.fit(X_train_ros, y_train_ros)"
      ],
      "metadata": {
        "colab": {
          "base_uri": "https://localhost:8080/",
          "height": 75
        },
        "outputId": "5b6c008c-1f4c-4553-865c-248cd6310c37",
        "id": "fhSo_VkWz6_h"
      },
      "execution_count": 85,
      "outputs": [
        {
          "output_type": "execute_result",
          "data": {
            "text/plain": [
              "SVC()"
            ],
            "text/html": [
              "<style>#sk-container-id-5 {color: black;background-color: white;}#sk-container-id-5 pre{padding: 0;}#sk-container-id-5 div.sk-toggleable {background-color: white;}#sk-container-id-5 label.sk-toggleable__label {cursor: pointer;display: block;width: 100%;margin-bottom: 0;padding: 0.3em;box-sizing: border-box;text-align: center;}#sk-container-id-5 label.sk-toggleable__label-arrow:before {content: \"▸\";float: left;margin-right: 0.25em;color: #696969;}#sk-container-id-5 label.sk-toggleable__label-arrow:hover:before {color: black;}#sk-container-id-5 div.sk-estimator:hover label.sk-toggleable__label-arrow:before {color: black;}#sk-container-id-5 div.sk-toggleable__content {max-height: 0;max-width: 0;overflow: hidden;text-align: left;background-color: #f0f8ff;}#sk-container-id-5 div.sk-toggleable__content pre {margin: 0.2em;color: black;border-radius: 0.25em;background-color: #f0f8ff;}#sk-container-id-5 input.sk-toggleable__control:checked~div.sk-toggleable__content {max-height: 200px;max-width: 100%;overflow: auto;}#sk-container-id-5 input.sk-toggleable__control:checked~label.sk-toggleable__label-arrow:before {content: \"▾\";}#sk-container-id-5 div.sk-estimator input.sk-toggleable__control:checked~label.sk-toggleable__label {background-color: #d4ebff;}#sk-container-id-5 div.sk-label input.sk-toggleable__control:checked~label.sk-toggleable__label {background-color: #d4ebff;}#sk-container-id-5 input.sk-hidden--visually {border: 0;clip: rect(1px 1px 1px 1px);clip: rect(1px, 1px, 1px, 1px);height: 1px;margin: -1px;overflow: hidden;padding: 0;position: absolute;width: 1px;}#sk-container-id-5 div.sk-estimator {font-family: monospace;background-color: #f0f8ff;border: 1px dotted black;border-radius: 0.25em;box-sizing: border-box;margin-bottom: 0.5em;}#sk-container-id-5 div.sk-estimator:hover {background-color: #d4ebff;}#sk-container-id-5 div.sk-parallel-item::after {content: \"\";width: 100%;border-bottom: 1px solid gray;flex-grow: 1;}#sk-container-id-5 div.sk-label:hover label.sk-toggleable__label {background-color: #d4ebff;}#sk-container-id-5 div.sk-serial::before {content: \"\";position: absolute;border-left: 1px solid gray;box-sizing: border-box;top: 0;bottom: 0;left: 50%;z-index: 0;}#sk-container-id-5 div.sk-serial {display: flex;flex-direction: column;align-items: center;background-color: white;padding-right: 0.2em;padding-left: 0.2em;position: relative;}#sk-container-id-5 div.sk-item {position: relative;z-index: 1;}#sk-container-id-5 div.sk-parallel {display: flex;align-items: stretch;justify-content: center;background-color: white;position: relative;}#sk-container-id-5 div.sk-item::before, #sk-container-id-5 div.sk-parallel-item::before {content: \"\";position: absolute;border-left: 1px solid gray;box-sizing: border-box;top: 0;bottom: 0;left: 50%;z-index: -1;}#sk-container-id-5 div.sk-parallel-item {display: flex;flex-direction: column;z-index: 1;position: relative;background-color: white;}#sk-container-id-5 div.sk-parallel-item:first-child::after {align-self: flex-end;width: 50%;}#sk-container-id-5 div.sk-parallel-item:last-child::after {align-self: flex-start;width: 50%;}#sk-container-id-5 div.sk-parallel-item:only-child::after {width: 0;}#sk-container-id-5 div.sk-dashed-wrapped {border: 1px dashed gray;margin: 0 0.4em 0.5em 0.4em;box-sizing: border-box;padding-bottom: 0.4em;background-color: white;}#sk-container-id-5 div.sk-label label {font-family: monospace;font-weight: bold;display: inline-block;line-height: 1.2em;}#sk-container-id-5 div.sk-label-container {text-align: center;}#sk-container-id-5 div.sk-container {/* jupyter's `normalize.less` sets `[hidden] { display: none; }` but bootstrap.min.css set `[hidden] { display: none !important; }` so we also need the `!important` here to be able to override the default hidden behavior on the sphinx rendered scikit-learn.org. See: https://github.com/scikit-learn/scikit-learn/issues/21755 */display: inline-block !important;position: relative;}#sk-container-id-5 div.sk-text-repr-fallback {display: none;}</style><div id=\"sk-container-id-5\" class=\"sk-top-container\"><div class=\"sk-text-repr-fallback\"><pre>SVC()</pre><b>In a Jupyter environment, please rerun this cell to show the HTML representation or trust the notebook. <br />On GitHub, the HTML representation is unable to render, please try loading this page with nbviewer.org.</b></div><div class=\"sk-container\" hidden><div class=\"sk-item\"><div class=\"sk-estimator sk-toggleable\"><input class=\"sk-toggleable__control sk-hidden--visually\" id=\"sk-estimator-id-9\" type=\"checkbox\" checked><label for=\"sk-estimator-id-9\" class=\"sk-toggleable__label sk-toggleable__label-arrow\">SVC</label><div class=\"sk-toggleable__content\"><pre>SVC()</pre></div></div></div></div></div>"
            ]
          },
          "metadata": {},
          "execution_count": 85
        }
      ]
    },
    {
      "cell_type": "code",
      "source": [
        "y_pred_ros = svc_ros.predict(X_test_ros)"
      ],
      "metadata": {
        "id": "M4VcNUVYz_Jr"
      },
      "execution_count": 86,
      "outputs": []
    },
    {
      "cell_type": "markdown",
      "source": [
        "# **Model Accuracy of Random Over Sample Model**"
      ],
      "metadata": {
        "id": "HvNDXTpj0HUp"
      }
    },
    {
      "cell_type": "code",
      "source": [
        "confusion_matrix(y_test_ros, y_pred_ros)"
      ],
      "metadata": {
        "colab": {
          "base_uri": "https://localhost:8080/"
        },
        "id": "ULf0SJQK0QCf",
        "outputId": "57f5a9a8-c1e6-4c8c-96b2-5222e160406b"
      },
      "execution_count": 87,
      "outputs": [
        {
          "output_type": "execute_result",
          "data": {
            "text/plain": [
              "array([[1823,  556],\n",
              "       [ 626, 1773]])"
            ]
          },
          "metadata": {},
          "execution_count": 87
        }
      ]
    },
    {
      "cell_type": "code",
      "source": [
        "print(classification_report(y_test_ros, y_pred_ros))"
      ],
      "metadata": {
        "colab": {
          "base_uri": "https://localhost:8080/"
        },
        "id": "hpbkW0Ot0WrV",
        "outputId": "27356405-6df9-45fe-e931-e6d9e8dd15b0"
      },
      "execution_count": 88,
      "outputs": [
        {
          "output_type": "stream",
          "name": "stdout",
          "text": [
            "              precision    recall  f1-score   support\n",
            "\n",
            "           0       0.74      0.77      0.76      2379\n",
            "           1       0.76      0.74      0.75      2399\n",
            "\n",
            "    accuracy                           0.75      4778\n",
            "   macro avg       0.75      0.75      0.75      4778\n",
            "weighted avg       0.75      0.75      0.75      4778\n",
            "\n"
          ]
        }
      ]
    },
    {
      "cell_type": "markdown",
      "source": [
        "***Hyperparameter Tunning***"
      ],
      "metadata": {
        "id": "hPDr2pyj0fm1"
      }
    },
    {
      "cell_type": "code",
      "source": [
        "param_grid = {'C':[0, 1, 1, 10], 'gamma':[1, 0.1, 0.01], 'kernel':['rbf'], 'class_weight':['balanced']}"
      ],
      "metadata": {
        "id": "EgrR3Afq0b-Q"
      },
      "execution_count": 89,
      "outputs": []
    },
    {
      "cell_type": "code",
      "source": [
        "grid_ros = GridSearchCV(SVC(), param_grid, refit = True, verbose = 2, cv=2)\n",
        "grid_ros.fit(X_train_ros, y_train_ros)"
      ],
      "metadata": {
        "colab": {
          "base_uri": "https://localhost:8080/",
          "height": 971
        },
        "id": "Dcxnxjrv0p2h",
        "outputId": "1a3b9ceb-9b3e-441e-a894-db878fbe631d"
      },
      "execution_count": 90,
      "outputs": [
        {
          "output_type": "stream",
          "name": "stdout",
          "text": [
            "Fitting 2 folds for each of 12 candidates, totalling 24 fits\n",
            "[CV] END ....C=0, class_weight=balanced, gamma=1, kernel=rbf; total time=   0.0s\n",
            "[CV] END ....C=0, class_weight=balanced, gamma=1, kernel=rbf; total time=   0.0s\n",
            "[CV] END ..C=0, class_weight=balanced, gamma=0.1, kernel=rbf; total time=   0.0s\n",
            "[CV] END ..C=0, class_weight=balanced, gamma=0.1, kernel=rbf; total time=   0.0s\n",
            "[CV] END .C=0, class_weight=balanced, gamma=0.01, kernel=rbf; total time=   0.0s\n",
            "[CV] END .C=0, class_weight=balanced, gamma=0.01, kernel=rbf; total time=   0.0s\n",
            "[CV] END ....C=1, class_weight=balanced, gamma=1, kernel=rbf; total time=   4.7s\n",
            "[CV] END ....C=1, class_weight=balanced, gamma=1, kernel=rbf; total time=   3.1s\n",
            "[CV] END ..C=1, class_weight=balanced, gamma=0.1, kernel=rbf; total time=   2.5s\n",
            "[CV] END ..C=1, class_weight=balanced, gamma=0.1, kernel=rbf; total time=   2.4s\n",
            "[CV] END .C=1, class_weight=balanced, gamma=0.01, kernel=rbf; total time=   3.8s\n",
            "[CV] END .C=1, class_weight=balanced, gamma=0.01, kernel=rbf; total time=   2.9s\n",
            "[CV] END ....C=1, class_weight=balanced, gamma=1, kernel=rbf; total time=   3.1s\n",
            "[CV] END ....C=1, class_weight=balanced, gamma=1, kernel=rbf; total time=   3.1s\n",
            "[CV] END ..C=1, class_weight=balanced, gamma=0.1, kernel=rbf; total time=   3.3s\n",
            "[CV] END ..C=1, class_weight=balanced, gamma=0.1, kernel=rbf; total time=   2.9s\n",
            "[CV] END .C=1, class_weight=balanced, gamma=0.01, kernel=rbf; total time=   2.7s\n",
            "[CV] END .C=1, class_weight=balanced, gamma=0.01, kernel=rbf; total time=   2.6s\n",
            "[CV] END ...C=10, class_weight=balanced, gamma=1, kernel=rbf; total time=   2.9s\n",
            "[CV] END ...C=10, class_weight=balanced, gamma=1, kernel=rbf; total time=   4.1s\n",
            "[CV] END .C=10, class_weight=balanced, gamma=0.1, kernel=rbf; total time=   2.7s\n",
            "[CV] END .C=10, class_weight=balanced, gamma=0.1, kernel=rbf; total time=   2.7s\n",
            "[CV] END C=10, class_weight=balanced, gamma=0.01, kernel=rbf; total time=   2.6s\n",
            "[CV] END C=10, class_weight=balanced, gamma=0.01, kernel=rbf; total time=   3.8s\n"
          ]
        },
        {
          "output_type": "stream",
          "name": "stderr",
          "text": [
            "/usr/local/lib/python3.10/dist-packages/sklearn/model_selection/_validation.py:378: FitFailedWarning: \n",
            "6 fits failed out of a total of 24.\n",
            "The score on these train-test partitions for these parameters will be set to nan.\n",
            "If these failures are not expected, you can try to debug them by setting error_score='raise'.\n",
            "\n",
            "Below are more details about the failures:\n",
            "--------------------------------------------------------------------------------\n",
            "6 fits failed with the following error:\n",
            "Traceback (most recent call last):\n",
            "  File \"/usr/local/lib/python3.10/dist-packages/sklearn/model_selection/_validation.py\", line 686, in _fit_and_score\n",
            "    estimator.fit(X_train, y_train, **fit_params)\n",
            "  File \"/usr/local/lib/python3.10/dist-packages/sklearn/svm/_base.py\", line 180, in fit\n",
            "    self._validate_params()\n",
            "  File \"/usr/local/lib/python3.10/dist-packages/sklearn/base.py\", line 600, in _validate_params\n",
            "    validate_parameter_constraints(\n",
            "  File \"/usr/local/lib/python3.10/dist-packages/sklearn/utils/_param_validation.py\", line 97, in validate_parameter_constraints\n",
            "    raise InvalidParameterError(\n",
            "sklearn.utils._param_validation.InvalidParameterError: The 'C' parameter of SVC must be a float in the range (0.0, inf). Got 0 instead.\n",
            "\n",
            "  warnings.warn(some_fits_failed_message, FitFailedWarning)\n",
            "/usr/local/lib/python3.10/dist-packages/sklearn/model_selection/_search.py:952: UserWarning: One or more of the test scores are non-finite: [       nan        nan        nan 0.82920703 0.75583064 0.71950126\n",
            " 0.82920703 0.75583064 0.71950126 0.83485827 0.76785074 0.7337639 ]\n",
            "  warnings.warn(\n"
          ]
        },
        {
          "output_type": "execute_result",
          "data": {
            "text/plain": [
              "GridSearchCV(cv=2, estimator=SVC(),\n",
              "             param_grid={'C': [0, 1, 1, 10], 'class_weight': ['balanced'],\n",
              "                         'gamma': [1, 0.1, 0.01], 'kernel': ['rbf']},\n",
              "             verbose=2)"
            ],
            "text/html": [
              "<style>#sk-container-id-6 {color: black;background-color: white;}#sk-container-id-6 pre{padding: 0;}#sk-container-id-6 div.sk-toggleable {background-color: white;}#sk-container-id-6 label.sk-toggleable__label {cursor: pointer;display: block;width: 100%;margin-bottom: 0;padding: 0.3em;box-sizing: border-box;text-align: center;}#sk-container-id-6 label.sk-toggleable__label-arrow:before {content: \"▸\";float: left;margin-right: 0.25em;color: #696969;}#sk-container-id-6 label.sk-toggleable__label-arrow:hover:before {color: black;}#sk-container-id-6 div.sk-estimator:hover label.sk-toggleable__label-arrow:before {color: black;}#sk-container-id-6 div.sk-toggleable__content {max-height: 0;max-width: 0;overflow: hidden;text-align: left;background-color: #f0f8ff;}#sk-container-id-6 div.sk-toggleable__content pre {margin: 0.2em;color: black;border-radius: 0.25em;background-color: #f0f8ff;}#sk-container-id-6 input.sk-toggleable__control:checked~div.sk-toggleable__content {max-height: 200px;max-width: 100%;overflow: auto;}#sk-container-id-6 input.sk-toggleable__control:checked~label.sk-toggleable__label-arrow:before {content: \"▾\";}#sk-container-id-6 div.sk-estimator input.sk-toggleable__control:checked~label.sk-toggleable__label {background-color: #d4ebff;}#sk-container-id-6 div.sk-label input.sk-toggleable__control:checked~label.sk-toggleable__label {background-color: #d4ebff;}#sk-container-id-6 input.sk-hidden--visually {border: 0;clip: rect(1px 1px 1px 1px);clip: rect(1px, 1px, 1px, 1px);height: 1px;margin: -1px;overflow: hidden;padding: 0;position: absolute;width: 1px;}#sk-container-id-6 div.sk-estimator {font-family: monospace;background-color: #f0f8ff;border: 1px dotted black;border-radius: 0.25em;box-sizing: border-box;margin-bottom: 0.5em;}#sk-container-id-6 div.sk-estimator:hover {background-color: #d4ebff;}#sk-container-id-6 div.sk-parallel-item::after {content: \"\";width: 100%;border-bottom: 1px solid gray;flex-grow: 1;}#sk-container-id-6 div.sk-label:hover label.sk-toggleable__label {background-color: #d4ebff;}#sk-container-id-6 div.sk-serial::before {content: \"\";position: absolute;border-left: 1px solid gray;box-sizing: border-box;top: 0;bottom: 0;left: 50%;z-index: 0;}#sk-container-id-6 div.sk-serial {display: flex;flex-direction: column;align-items: center;background-color: white;padding-right: 0.2em;padding-left: 0.2em;position: relative;}#sk-container-id-6 div.sk-item {position: relative;z-index: 1;}#sk-container-id-6 div.sk-parallel {display: flex;align-items: stretch;justify-content: center;background-color: white;position: relative;}#sk-container-id-6 div.sk-item::before, #sk-container-id-6 div.sk-parallel-item::before {content: \"\";position: absolute;border-left: 1px solid gray;box-sizing: border-box;top: 0;bottom: 0;left: 50%;z-index: -1;}#sk-container-id-6 div.sk-parallel-item {display: flex;flex-direction: column;z-index: 1;position: relative;background-color: white;}#sk-container-id-6 div.sk-parallel-item:first-child::after {align-self: flex-end;width: 50%;}#sk-container-id-6 div.sk-parallel-item:last-child::after {align-self: flex-start;width: 50%;}#sk-container-id-6 div.sk-parallel-item:only-child::after {width: 0;}#sk-container-id-6 div.sk-dashed-wrapped {border: 1px dashed gray;margin: 0 0.4em 0.5em 0.4em;box-sizing: border-box;padding-bottom: 0.4em;background-color: white;}#sk-container-id-6 div.sk-label label {font-family: monospace;font-weight: bold;display: inline-block;line-height: 1.2em;}#sk-container-id-6 div.sk-label-container {text-align: center;}#sk-container-id-6 div.sk-container {/* jupyter's `normalize.less` sets `[hidden] { display: none; }` but bootstrap.min.css set `[hidden] { display: none !important; }` so we also need the `!important` here to be able to override the default hidden behavior on the sphinx rendered scikit-learn.org. See: https://github.com/scikit-learn/scikit-learn/issues/21755 */display: inline-block !important;position: relative;}#sk-container-id-6 div.sk-text-repr-fallback {display: none;}</style><div id=\"sk-container-id-6\" class=\"sk-top-container\"><div class=\"sk-text-repr-fallback\"><pre>GridSearchCV(cv=2, estimator=SVC(),\n",
              "             param_grid={&#x27;C&#x27;: [0, 1, 1, 10], &#x27;class_weight&#x27;: [&#x27;balanced&#x27;],\n",
              "                         &#x27;gamma&#x27;: [1, 0.1, 0.01], &#x27;kernel&#x27;: [&#x27;rbf&#x27;]},\n",
              "             verbose=2)</pre><b>In a Jupyter environment, please rerun this cell to show the HTML representation or trust the notebook. <br />On GitHub, the HTML representation is unable to render, please try loading this page with nbviewer.org.</b></div><div class=\"sk-container\" hidden><div class=\"sk-item sk-dashed-wrapped\"><div class=\"sk-label-container\"><div class=\"sk-label sk-toggleable\"><input class=\"sk-toggleable__control sk-hidden--visually\" id=\"sk-estimator-id-10\" type=\"checkbox\" ><label for=\"sk-estimator-id-10\" class=\"sk-toggleable__label sk-toggleable__label-arrow\">GridSearchCV</label><div class=\"sk-toggleable__content\"><pre>GridSearchCV(cv=2, estimator=SVC(),\n",
              "             param_grid={&#x27;C&#x27;: [0, 1, 1, 10], &#x27;class_weight&#x27;: [&#x27;balanced&#x27;],\n",
              "                         &#x27;gamma&#x27;: [1, 0.1, 0.01], &#x27;kernel&#x27;: [&#x27;rbf&#x27;]},\n",
              "             verbose=2)</pre></div></div></div><div class=\"sk-parallel\"><div class=\"sk-parallel-item\"><div class=\"sk-item\"><div class=\"sk-label-container\"><div class=\"sk-label sk-toggleable\"><input class=\"sk-toggleable__control sk-hidden--visually\" id=\"sk-estimator-id-11\" type=\"checkbox\" ><label for=\"sk-estimator-id-11\" class=\"sk-toggleable__label sk-toggleable__label-arrow\">estimator: SVC</label><div class=\"sk-toggleable__content\"><pre>SVC()</pre></div></div></div><div class=\"sk-serial\"><div class=\"sk-item\"><div class=\"sk-estimator sk-toggleable\"><input class=\"sk-toggleable__control sk-hidden--visually\" id=\"sk-estimator-id-12\" type=\"checkbox\" ><label for=\"sk-estimator-id-12\" class=\"sk-toggleable__label sk-toggleable__label-arrow\">SVC</label><div class=\"sk-toggleable__content\"><pre>SVC()</pre></div></div></div></div></div></div></div></div></div></div>"
            ]
          },
          "metadata": {},
          "execution_count": 90
        }
      ]
    },
    {
      "cell_type": "code",
      "source": [
        "print(grid_ros.best_estimator_)"
      ],
      "metadata": {
        "colab": {
          "base_uri": "https://localhost:8080/"
        },
        "id": "R2xgLRD10w1j",
        "outputId": "5ff8dab6-a6a8-4faf-c45b-69934fdc3017"
      },
      "execution_count": 91,
      "outputs": [
        {
          "output_type": "stream",
          "name": "stdout",
          "text": [
            "SVC(C=10, class_weight='balanced', gamma=1)\n"
          ]
        }
      ]
    },
    {
      "cell_type": "code",
      "source": [
        "grid_predictions_ros = grid_ros.predict(X_test_ros)"
      ],
      "metadata": {
        "id": "fLg34Lzu006a"
      },
      "execution_count": 92,
      "outputs": []
    },
    {
      "cell_type": "code",
      "source": [
        "confusion_matrix(y_test_ros, grid_predictions_ros)"
      ],
      "metadata": {
        "colab": {
          "base_uri": "https://localhost:8080/"
        },
        "id": "06LCo7iw06zb",
        "outputId": "527c3146-c105-475e-83ad-e91c55f177cf"
      },
      "execution_count": 93,
      "outputs": [
        {
          "output_type": "execute_result",
          "data": {
            "text/plain": [
              "array([[2047,  332],\n",
              "       [  68, 2331]])"
            ]
          },
          "metadata": {},
          "execution_count": 93
        }
      ]
    },
    {
      "cell_type": "code",
      "source": [
        "print(classification_report(y_test_ros, grid_predictions_ros))"
      ],
      "metadata": {
        "colab": {
          "base_uri": "https://localhost:8080/"
        },
        "id": "JcNg6aL_1A5L",
        "outputId": "8507006b-d74b-4931-d9b9-d87a06c216f7"
      },
      "execution_count": 94,
      "outputs": [
        {
          "output_type": "stream",
          "name": "stdout",
          "text": [
            "              precision    recall  f1-score   support\n",
            "\n",
            "           0       0.97      0.86      0.91      2379\n",
            "           1       0.88      0.97      0.92      2399\n",
            "\n",
            "    accuracy                           0.92      4778\n",
            "   macro avg       0.92      0.92      0.92      4778\n",
            "weighted avg       0.92      0.92      0.92      4778\n",
            "\n"
          ]
        }
      ]
    },
    {
      "cell_type": "markdown",
      "source": [
        "# **Comparative Result**"
      ],
      "metadata": {
        "id": "mzmaxQlc1XEb"
      }
    },
    {
      "cell_type": "code",
      "source": [
        "#Model with Original Data\n",
        "print(classification_report(y_test, y_pred))"
      ],
      "metadata": {
        "colab": {
          "base_uri": "https://localhost:8080/"
        },
        "id": "Srca-5vy1d4D",
        "outputId": "820ced58-4df5-42d9-c044-88af595a4c62"
      },
      "execution_count": 95,
      "outputs": [
        {
          "output_type": "stream",
          "name": "stdout",
          "text": [
            "              precision    recall  f1-score   support\n",
            "\n",
            "           0       0.85      0.99      0.91      2414\n",
            "           1       0.82      0.26      0.39       586\n",
            "\n",
            "    accuracy                           0.84      3000\n",
            "   macro avg       0.83      0.62      0.65      3000\n",
            "weighted avg       0.84      0.84      0.81      3000\n",
            "\n"
          ]
        }
      ]
    },
    {
      "cell_type": "code",
      "source": [
        "# Model with Original Data ( Hyperparameter Tunnning )\n",
        "print(classification_report(y_test, grid_predictions))"
      ],
      "metadata": {
        "colab": {
          "base_uri": "https://localhost:8080/"
        },
        "id": "SOcm-Btw1xKv",
        "outputId": "c2b0e91d-a36f-4455-a57f-37a75a83e8ff"
      },
      "execution_count": 96,
      "outputs": [
        {
          "output_type": "stream",
          "name": "stdout",
          "text": [
            "              precision    recall  f1-score   support\n",
            "\n",
            "           0       0.86      0.89      0.88      2414\n",
            "           1       0.49      0.41      0.45       586\n",
            "\n",
            "    accuracy                           0.80      3000\n",
            "   macro avg       0.68      0.65      0.66      3000\n",
            "weighted avg       0.79      0.80      0.79      3000\n",
            "\n"
          ]
        }
      ]
    },
    {
      "cell_type": "code",
      "source": [
        "# Random Under Sample Model\n",
        "print(classification_report(y_test_rus, y_pred_rus))"
      ],
      "metadata": {
        "colab": {
          "base_uri": "https://localhost:8080/"
        },
        "id": "Xg_qd--U193v",
        "outputId": "490d1d76-599b-41c5-bac8-6b7dfd391d50"
      },
      "execution_count": 97,
      "outputs": [
        {
          "output_type": "stream",
          "name": "stdout",
          "text": [
            "              precision    recall  f1-score   support\n",
            "\n",
            "           0       0.73      0.75      0.74       627\n",
            "           1       0.73      0.71      0.72       596\n",
            "\n",
            "    accuracy                           0.73      1223\n",
            "   macro avg       0.73      0.73      0.73      1223\n",
            "weighted avg       0.73      0.73      0.73      1223\n",
            "\n"
          ]
        }
      ]
    },
    {
      "cell_type": "code",
      "source": [
        "# Random Under Sample Model ( Hyperparameter Tunnning )\n",
        "print(classification_report(y_test_rus, grid_predictions_rus))"
      ],
      "metadata": {
        "colab": {
          "base_uri": "https://localhost:8080/"
        },
        "id": "ExT4wwvW2LjS",
        "outputId": "0457876a-21a1-44f4-8a7d-123fcea4c5a8"
      },
      "execution_count": 98,
      "outputs": [
        {
          "output_type": "stream",
          "name": "stdout",
          "text": [
            "              precision    recall  f1-score   support\n",
            "\n",
            "           0       0.73      0.76      0.75       627\n",
            "           1       0.74      0.71      0.72       596\n",
            "\n",
            "    accuracy                           0.74      1223\n",
            "   macro avg       0.74      0.74      0.74      1223\n",
            "weighted avg       0.74      0.74      0.74      1223\n",
            "\n"
          ]
        }
      ]
    },
    {
      "cell_type": "code",
      "source": [
        "# Random Over Sample Model\n",
        "print(classification_report(y_test_ros, y_pred_ros))"
      ],
      "metadata": {
        "colab": {
          "base_uri": "https://localhost:8080/"
        },
        "id": "Y0jkugfP2UeP",
        "outputId": "cfcdade5-0f2b-4d47-9812-35c412d3205b"
      },
      "execution_count": 99,
      "outputs": [
        {
          "output_type": "stream",
          "name": "stdout",
          "text": [
            "              precision    recall  f1-score   support\n",
            "\n",
            "           0       0.74      0.77      0.76      2379\n",
            "           1       0.76      0.74      0.75      2399\n",
            "\n",
            "    accuracy                           0.75      4778\n",
            "   macro avg       0.75      0.75      0.75      4778\n",
            "weighted avg       0.75      0.75      0.75      4778\n",
            "\n"
          ]
        }
      ]
    },
    {
      "cell_type": "code",
      "source": [
        "# Random Over Sample Model ( Hyperparameter Tunnning )\n",
        "print(classification_report(y_test_ros, grid_predictions_ros))"
      ],
      "metadata": {
        "id": "imA_gDEo2b4G",
        "colab": {
          "base_uri": "https://localhost:8080/"
        },
        "outputId": "75836dda-82fa-46b8-dcb6-429ae8ff0901"
      },
      "execution_count": 101,
      "outputs": [
        {
          "output_type": "stream",
          "name": "stdout",
          "text": [
            "              precision    recall  f1-score   support\n",
            "\n",
            "           0       0.97      0.86      0.91      2379\n",
            "           1       0.88      0.97      0.92      2399\n",
            "\n",
            "    accuracy                           0.92      4778\n",
            "   macro avg       0.92      0.92      0.92      4778\n",
            "weighted avg       0.92      0.92      0.92      4778\n",
            "\n"
          ]
        }
      ]
    },
    {
      "cell_type": "markdown",
      "source": [
        "The tuned model of ROS gives the highest accuracy not only by using random over sampling but by using standardization, preprocessing, proper encoding of data and adopting good hyperparameter tunning.\n",
        "\n",
        "Therefore, we should not jump directly to another model. First use the proper data encoding, preprocessing, data manipulation, hyperparameter tunning.\n",
        "\n",
        "Now, to further increase or to check we can use the other models life ForestClassifier, naive-based or KNN.\n",
        "\n",
        "But always remember, in real world problem it is always the data preprocessing which always take the lead and before we actually change the model."
      ],
      "metadata": {
        "id": "Dkfx23Rtqv37"
      }
    }
  ]
}